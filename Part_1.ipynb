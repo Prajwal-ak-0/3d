{
  "nbformat": 4,
  "nbformat_minor": 0,
  "metadata": {
    "colab": {
      "provenance": [],
      "authorship_tag": "ABX9TyOBdbY/EeFZl2uWtIKHkwYV",
      "include_colab_link": true
    },
    "kernelspec": {
      "name": "python3",
      "display_name": "Python 3"
    },
    "language_info": {
      "name": "python"
    }
  },
  "cells": [
    {
      "cell_type": "markdown",
      "metadata": {
        "id": "view-in-github",
        "colab_type": "text"
      },
      "source": [
        "<a href=\"https://colab.research.google.com/github/Prajwal-ak-0/3d/blob/master/Part_1.ipynb\" target=\"_parent\"><img src=\"https://colab.research.google.com/assets/colab-badge.svg\" alt=\"Open In Colab\"/></a>"
      ]
    },
    {
      "cell_type": "markdown",
      "source": [
        "# 1. Introduction to Machine Learning and Deep Learning\n",
        "\n",
        "**Machine Learning (ML)**: A branch of AI that learns from data and predicts unseen data. It can be applied everywhere, as long as we are able to convert the data into numbers, program it, and find patterns.\n",
        "\n",
        "### Differences between ML and DL\n",
        "* **Machine Learning (ML)** is generally applied to structured data.\n",
        "* **Deep Learning (DL)**, a subset of ML, is typically applied to unstructured data.\n",
        "\n",
        "### When to Apply ML/DL\n",
        "* When we cannot specify all the rules we are going to encounter and the environment keeps changing with time.\n",
        "* When there is a large amount of data, we can use ML/DL to gain insights.\n",
        "\n",
        "### When Not to Apply DL\n",
        "* If we can solve the problem with simple ML, it is better to avoid DL as it requires more computation.\n",
        "* In the absence of large data, ML is preferred to deliver accurate results.\n",
        "\n",
        "![Machine Learning vs Deep Learning](https://assets-global.website-files.com/5fb24a974499e90dae242d98/60f6fcbbeb0b8f57a7980a98_5f213db7c7763a9288759ad1_5eac2d0ef117c236e34cc0ff_DeepLearning.jpeg)\n",
        "\n",
        "# Artificial Neural Network (ANN)\n",
        "\n",
        "**Artificial Neural Network (ANN)**: A model inspired by the structure and function of biological neural networks. It consists of:\n",
        "\n",
        "1. **Input Layer**: The incoming data is fed into this layer. Generally, it is a single layer.\n",
        "2. **Hidden Layer(s)**: The model can consist of any number of hidden layers. Each layer helps in feature extraction.\n",
        "3. **Output Layer**: Based on the extracted features, this layer makes the final decision.\n",
        "\n",
        "\n"
      ],
      "metadata": {
        "id": "gFz3-66EKQJh"
      }
    },
    {
      "cell_type": "markdown",
      "source": [
        "# 2. Tensorflow basics\n",
        "\n",
        "**TensorFlow**: An end-to-end open-source machine learning platform used to develop models for various tasks, including natural language processing, image recognition, etc.\n",
        "\n",
        "* Contains prebuilt models.\n",
        "* Provides the tools to build or customize a model.\n"
      ],
      "metadata": {
        "id": "kFKDX9xZcTEv"
      }
    },
    {
      "cell_type": "code",
      "source": [
        "import tensorflow as tf"
      ],
      "metadata": {
        "id": "bpJWy7j9gYY4"
      },
      "execution_count": 3,
      "outputs": []
    },
    {
      "cell_type": "code",
      "source": [
        "scalar = tf.constant(10)\n",
        "scalar\n",
        "print(scalar.ndim)"
      ],
      "metadata": {
        "colab": {
          "base_uri": "https://localhost:8080/"
        },
        "id": "CUMXD_c2dBMY",
        "outputId": "56a63511-5f42-4f8f-8cd9-74550af92dcd"
      },
      "execution_count": 4,
      "outputs": [
        {
          "output_type": "stream",
          "name": "stdout",
          "text": [
            "0\n"
          ]
        }
      ]
    },
    {
      "cell_type": "code",
      "source": [
        "vector = tf.constant([10,20,30,40])\n",
        "vector\n",
        "print(vector.ndim)"
      ],
      "metadata": {
        "colab": {
          "base_uri": "https://localhost:8080/"
        },
        "id": "mT-kh41ggUk_",
        "outputId": "17e70c2d-c535-4035-cc5d-2b9a9f16b06e"
      },
      "execution_count": 5,
      "outputs": [
        {
          "output_type": "stream",
          "name": "stdout",
          "text": [
            "1\n"
          ]
        }
      ]
    },
    {
      "cell_type": "code",
      "source": [
        "matrix = tf.constant([[10,20,30,40], [40,50,60,80]])\n",
        "matrix\n",
        "print(matrix.ndim)"
      ],
      "metadata": {
        "colab": {
          "base_uri": "https://localhost:8080/"
        },
        "id": "e9L45dHohb08",
        "outputId": "fbb23a47-98fa-48ed-eec0-b63bd03921e4"
      },
      "execution_count": 6,
      "outputs": [
        {
          "output_type": "stream",
          "name": "stdout",
          "text": [
            "2\n"
          ]
        }
      ]
    },
    {
      "cell_type": "code",
      "source": [
        "tensor = tf.constant([[[10,20,30],[40,50,60]], [[10,20,30],[40,50,60]], [[10,20,30],[40,50,60]], [[10,20,30],[40,50,60]]])\n",
        "tensor\n",
        "print(tensor.ndim)"
      ],
      "metadata": {
        "colab": {
          "base_uri": "https://localhost:8080/"
        },
        "id": "EV2fsk5AglO6",
        "outputId": "3eb6de5f-de16-4369-f81e-7fc12b0e2d81"
      },
      "execution_count": 7,
      "outputs": [
        {
          "output_type": "stream",
          "name": "stdout",
          "text": [
            "3\n"
          ]
        }
      ]
    },
    {
      "cell_type": "markdown",
      "source": [
        "### **constant()** vs **variable()**"
      ],
      "metadata": {
        "id": "UjHpbRZdNFYZ"
      }
    },
    {
      "cell_type": "code",
      "source": [
        "var = tf.Variable([10,7])\n",
        "const = tf.constant([10,7])\n",
        "print(var)\n",
        "print(const)"
      ],
      "metadata": {
        "colab": {
          "base_uri": "https://localhost:8080/"
        },
        "id": "DFCvOF8VNMAF",
        "outputId": "922014af-1f62-43ac-db66-e4d2c3e13e8f"
      },
      "execution_count": 8,
      "outputs": [
        {
          "output_type": "stream",
          "name": "stdout",
          "text": [
            "<tf.Variable 'Variable:0' shape=(2,) dtype=int32, numpy=array([10,  7], dtype=int32)>\n",
            "tf.Tensor([10  7], shape=(2,), dtype=int32)\n"
          ]
        }
      ]
    },
    {
      "cell_type": "code",
      "source": [
        "var[0].assign(100)\n",
        "print(var)"
      ],
      "metadata": {
        "colab": {
          "base_uri": "https://localhost:8080/"
        },
        "id": "suvFdfkDNShm",
        "outputId": "16867dd2-e504-4976-b15b-bcc19a14c540"
      },
      "execution_count": 9,
      "outputs": [
        {
          "output_type": "stream",
          "name": "stdout",
          "text": [
            "<tf.Variable 'Variable:0' shape=(2,) dtype=int32, numpy=array([100,   7], dtype=int32)>\n"
          ]
        }
      ]
    },
    {
      "cell_type": "code",
      "source": [
        "# const[0].assign(100)\n",
        "\n",
        "# NameError                                 Traceback (most recent call last)\n",
        "# <ipython-input-3-f1af4f6e9736> in <cell line: 1>()\n",
        "# ----> 1 const[0].assign(100)\n",
        "\n",
        "# NameError: name 'const' is not defined"
      ],
      "metadata": {
        "id": "uC136QP_OMZg"
      },
      "execution_count": 10,
      "outputs": []
    },
    {
      "cell_type": "markdown",
      "source": [
        "### Creating Random Tensors"
      ],
      "metadata": {
        "id": "GTX4div0Pqi7"
      }
    },
    {
      "cell_type": "code",
      "source": [
        "rand_1 = tf.random.Generator.from_seed(40)\n",
        "rand_1 = rand_1.normal(shape=(3,4))\n",
        "rand_2 = tf.random.Generator.from_seed(40)\n",
        "rand_2 = rand_2.normal(shape=(3,4))\n",
        "\n",
        "rand_1, rand_2, rand_1 == rand_2"
      ],
      "metadata": {
        "colab": {
          "base_uri": "https://localhost:8080/"
        },
        "id": "15DPHOFOPqBP",
        "outputId": "23925b4a-9c97-4651-9021-15cbdc9dd117"
      },
      "execution_count": 11,
      "outputs": [
        {
          "output_type": "execute_result",
          "data": {
            "text/plain": [
              "(<tf.Tensor: shape=(3, 4), dtype=float32, numpy=\n",
              " array([[ 0.78953624,  0.53897345, -0.48535708,  0.74055266],\n",
              "        [ 0.31662667, -1.4391748 ,  0.58923835, -1.4268045 ],\n",
              "        [-0.7565803 , -0.06854702,  0.07595026, -1.2573844 ]],\n",
              "       dtype=float32)>,\n",
              " <tf.Tensor: shape=(3, 4), dtype=float32, numpy=\n",
              " array([[ 0.78953624,  0.53897345, -0.48535708,  0.74055266],\n",
              "        [ 0.31662667, -1.4391748 ,  0.58923835, -1.4268045 ],\n",
              "        [-0.7565803 , -0.06854702,  0.07595026, -1.2573844 ]],\n",
              "       dtype=float32)>,\n",
              " <tf.Tensor: shape=(3, 4), dtype=bool, numpy=\n",
              " array([[ True,  True,  True,  True],\n",
              "        [ True,  True,  True,  True],\n",
              "        [ True,  True,  True,  True]])>)"
            ]
          },
          "metadata": {},
          "execution_count": 11
        }
      ]
    },
    {
      "cell_type": "code",
      "source": [
        "rand_1 = tf.random.Generator.from_seed(40)\n",
        "rand_1 = rand_1.normal(shape=(3,4))\n",
        "rand_2 = tf.random.Generator.from_seed(10)\n",
        "rand_2 = rand_2.normal(shape=(3,4))\n",
        "\n",
        "rand_1, rand_2, rand_1 == rand_2"
      ],
      "metadata": {
        "colab": {
          "base_uri": "https://localhost:8080/"
        },
        "id": "wdP7utHczu7t",
        "outputId": "3e53756e-8f56-4fe9-882e-6719b0d7a545"
      },
      "execution_count": 12,
      "outputs": [
        {
          "output_type": "execute_result",
          "data": {
            "text/plain": [
              "(<tf.Tensor: shape=(3, 4), dtype=float32, numpy=\n",
              " array([[ 0.78953624,  0.53897345, -0.48535708,  0.74055266],\n",
              "        [ 0.31662667, -1.4391748 ,  0.58923835, -1.4268045 ],\n",
              "        [-0.7565803 , -0.06854702,  0.07595026, -1.2573844 ]],\n",
              "       dtype=float32)>,\n",
              " <tf.Tensor: shape=(3, 4), dtype=float32, numpy=\n",
              " array([[-0.29604465, -0.21134205,  0.01063002,  1.5165398 ],\n",
              "        [ 0.27305737, -0.29925638, -0.3652325 ,  0.61883307],\n",
              "        [-1.0130816 ,  0.28291714,  1.2132233 ,  0.46988967]],\n",
              "       dtype=float32)>,\n",
              " <tf.Tensor: shape=(3, 4), dtype=bool, numpy=\n",
              " array([[False, False, False, False],\n",
              "        [False, False, False, False],\n",
              "        [False, False, False, False]])>)"
            ]
          },
          "metadata": {},
          "execution_count": 12
        }
      ]
    },
    {
      "cell_type": "markdown",
      "source": [
        "### Shuffling the order of the tensors"
      ],
      "metadata": {
        "id": "GIipWoHi0ZtM"
      }
    },
    {
      "cell_type": "code",
      "source": [
        "shuffle = tf.constant([[10,2,3], [32,34,5], [12,43,23], [22,1,21]])\n",
        "tf.random.shuffle(shuffle, seed=10)"
      ],
      "metadata": {
        "colab": {
          "base_uri": "https://localhost:8080/"
        },
        "id": "dM3TTEDC0ddH",
        "outputId": "5a8d1f9e-a5c2-451b-d547-2ec27faa9f87"
      },
      "execution_count": 13,
      "outputs": [
        {
          "output_type": "execute_result",
          "data": {
            "text/plain": [
              "<tf.Tensor: shape=(4, 3), dtype=int32, numpy=\n",
              "array([[10,  2,  3],\n",
              "       [22,  1, 21],\n",
              "       [32, 34,  5],\n",
              "       [12, 43, 23]], dtype=int32)>"
            ]
          },
          "metadata": {},
          "execution_count": 13
        }
      ]
    },
    {
      "cell_type": "code",
      "source": [
        "shuffle = tf.constant([[10,2,3], [32,34,5], [12,43,23], [22,1,21]])\n",
        "tf.random.shuffle(shuffle, seed = 10)"
      ],
      "metadata": {
        "colab": {
          "base_uri": "https://localhost:8080/"
        },
        "id": "OlVRZiTl0yY4",
        "outputId": "cdca38af-49bd-41c7-f147-ff94f837a3ab"
      },
      "execution_count": 14,
      "outputs": [
        {
          "output_type": "execute_result",
          "data": {
            "text/plain": [
              "<tf.Tensor: shape=(4, 3), dtype=int32, numpy=\n",
              "array([[12, 43, 23],\n",
              "       [32, 34,  5],\n",
              "       [22,  1, 21],\n",
              "       [10,  2,  3]], dtype=int32)>"
            ]
          },
          "metadata": {},
          "execution_count": 14
        }
      ]
    },
    {
      "cell_type": "markdown",
      "source": [
        "### Setting A Global Seed"
      ],
      "metadata": {
        "id": "Ti3TfQL-OML0"
      }
    },
    {
      "cell_type": "code",
      "source": [
        "shuffle = tf.constant([[10,2,3], [32,34,5], [12,43,23], [22,1,21]])\n",
        "tf.random.set_seed(10)\n",
        "tf.random.shuffle(shuffle)"
      ],
      "metadata": {
        "colab": {
          "base_uri": "https://localhost:8080/"
        },
        "id": "_biCwECfL3ep",
        "outputId": "44b33fda-6681-4703-ccaa-5bd69534fa8e"
      },
      "execution_count": 15,
      "outputs": [
        {
          "output_type": "execute_result",
          "data": {
            "text/plain": [
              "<tf.Tensor: shape=(4, 3), dtype=int32, numpy=\n",
              "array([[12, 43, 23],\n",
              "       [22,  1, 21],\n",
              "       [10,  2,  3],\n",
              "       [32, 34,  5]], dtype=int32)>"
            ]
          },
          "metadata": {},
          "execution_count": 15
        }
      ]
    },
    {
      "cell_type": "markdown",
      "source": [
        "### Creating A Tensor From Numpy"
      ],
      "metadata": {
        "id": "1nEHBmb2PXw9"
      }
    },
    {
      "cell_type": "code",
      "source": [
        "import numpy as np\n",
        "numpy_A = np.arange(1, 25)\n",
        "A = tf.constant(numpy_A)\n",
        "A"
      ],
      "metadata": {
        "colab": {
          "base_uri": "https://localhost:8080/"
        },
        "id": "P4VMdzuTPd2z",
        "outputId": "65ce68a9-a0ff-447e-c618-50c9c7a16c10"
      },
      "execution_count": 16,
      "outputs": [
        {
          "output_type": "execute_result",
          "data": {
            "text/plain": [
              "<tf.Tensor: shape=(24,), dtype=int64, numpy=\n",
              "array([ 1,  2,  3,  4,  5,  6,  7,  8,  9, 10, 11, 12, 13, 14, 15, 16, 17,\n",
              "       18, 19, 20, 21, 22, 23, 24])>"
            ]
          },
          "metadata": {},
          "execution_count": 16
        }
      ]
    },
    {
      "cell_type": "markdown",
      "source": [
        "### Shape, Rank and Size"
      ],
      "metadata": {
        "id": "Qy5Nlm5OR1Cl"
      }
    },
    {
      "cell_type": "code",
      "source": [
        "# Creating a 4 dimension tensor\n",
        "random_4_T = tf.zeros(shape=(2,3,4,5))\n",
        "random_4_T"
      ],
      "metadata": {
        "colab": {
          "base_uri": "https://localhost:8080/"
        },
        "id": "NpMn8FJVR4o-",
        "outputId": "2b89345b-12b8-4c52-eccc-f37f3e54b4f5"
      },
      "execution_count": 17,
      "outputs": [
        {
          "output_type": "execute_result",
          "data": {
            "text/plain": [
              "<tf.Tensor: shape=(2, 3, 4, 5), dtype=float32, numpy=\n",
              "array([[[[0., 0., 0., 0., 0.],\n",
              "         [0., 0., 0., 0., 0.],\n",
              "         [0., 0., 0., 0., 0.],\n",
              "         [0., 0., 0., 0., 0.]],\n",
              "\n",
              "        [[0., 0., 0., 0., 0.],\n",
              "         [0., 0., 0., 0., 0.],\n",
              "         [0., 0., 0., 0., 0.],\n",
              "         [0., 0., 0., 0., 0.]],\n",
              "\n",
              "        [[0., 0., 0., 0., 0.],\n",
              "         [0., 0., 0., 0., 0.],\n",
              "         [0., 0., 0., 0., 0.],\n",
              "         [0., 0., 0., 0., 0.]]],\n",
              "\n",
              "\n",
              "       [[[0., 0., 0., 0., 0.],\n",
              "         [0., 0., 0., 0., 0.],\n",
              "         [0., 0., 0., 0., 0.],\n",
              "         [0., 0., 0., 0., 0.]],\n",
              "\n",
              "        [[0., 0., 0., 0., 0.],\n",
              "         [0., 0., 0., 0., 0.],\n",
              "         [0., 0., 0., 0., 0.],\n",
              "         [0., 0., 0., 0., 0.]],\n",
              "\n",
              "        [[0., 0., 0., 0., 0.],\n",
              "         [0., 0., 0., 0., 0.],\n",
              "         [0., 0., 0., 0., 0.],\n",
              "         [0., 0., 0., 0., 0.]]]], dtype=float32)>"
            ]
          },
          "metadata": {},
          "execution_count": 17
        }
      ]
    },
    {
      "cell_type": "code",
      "source": [
        "print(\"Data type of tensor : \",random_4_T.shape)\n",
        "print(\"Dimension(rank) of a tensor : \",random_4_T.ndim)\n",
        "print(\"Datatype of tensor : \", random_4_T.dtype)\n",
        "print(\"Total No of element in tensor : \",tf.size(random_4_T).numpy())\n",
        "print(\"No of ele along 0th dim : \", random_4_T.shape[0])\n",
        "print(\"No of ele along last dim : \", random_4_T.shape[-1])"
      ],
      "metadata": {
        "colab": {
          "base_uri": "https://localhost:8080/"
        },
        "id": "vWV7qvT9XNcE",
        "outputId": "62d504d0-7c71-49e7-f58f-adfc84dc6eef"
      },
      "execution_count": 18,
      "outputs": [
        {
          "output_type": "stream",
          "name": "stdout",
          "text": [
            "Data type of tensor :  (2, 3, 4, 5)\n",
            "Dimension(rank) of a tensor :  4\n",
            "Datatype of tensor :  <dtype: 'float32'>\n",
            "Total No of element in tensor :  120\n",
            "No of ele along 0th dim :  2\n",
            "No of ele along last dim :  5\n"
          ]
        }
      ]
    },
    {
      "cell_type": "markdown",
      "source": [
        "### Indexing in tensors"
      ],
      "metadata": {
        "id": "XcIN8O-iZF6h"
      }
    },
    {
      "cell_type": "markdown",
      "source": [],
      "metadata": {
        "id": "_D-li0SHcABj"
      }
    },
    {
      "cell_type": "code",
      "source": [
        "random_4_T1 = tf.random.uniform(shape=(2,3,4), minval=1, maxval=20, dtype=tf.int32)\n",
        "random_4_T1"
      ],
      "metadata": {
        "colab": {
          "base_uri": "https://localhost:8080/"
        },
        "id": "ORSdCNqdZFcn",
        "outputId": "59050738-fb33-4b17-f6f1-79fca1d71ab2"
      },
      "execution_count": 19,
      "outputs": [
        {
          "output_type": "execute_result",
          "data": {
            "text/plain": [
              "<tf.Tensor: shape=(2, 3, 4), dtype=int32, numpy=\n",
              "array([[[19, 11, 15,  8],\n",
              "        [18, 12, 10, 17],\n",
              "        [ 7, 12, 18, 16]],\n",
              "\n",
              "       [[18,  4, 14,  5],\n",
              "        [17,  1, 18,  7],\n",
              "        [ 1,  9,  8,  4]]], dtype=int32)>"
            ]
          },
          "metadata": {},
          "execution_count": 19
        }
      ]
    },
    {
      "cell_type": "code",
      "source": [
        "# Extract the element at position (0, 1, 2)\n",
        "n1 = random_4_T1[0,1,2]\n",
        "\n",
        "# Extract the first row of the first matrix\n",
        "n2 = random_4_T1[0,0]\n",
        "\n",
        "# Extract the second column of the second matrix\n",
        "n3 = random_4_T1[1,:,1]\n",
        "\n",
        "# Extract the last element of each row in both matrices\n",
        "n4 = random_4_T1[:,:,-1]\n",
        "n1,n2,n3,n4"
      ],
      "metadata": {
        "colab": {
          "base_uri": "https://localhost:8080/"
        },
        "id": "5bOgwFBtb3F_",
        "outputId": "4aa9aff2-f487-4b7c-a6ff-85bd9a4afab6"
      },
      "execution_count": 20,
      "outputs": [
        {
          "output_type": "execute_result",
          "data": {
            "text/plain": [
              "(<tf.Tensor: shape=(), dtype=int32, numpy=10>,\n",
              " <tf.Tensor: shape=(4,), dtype=int32, numpy=array([19, 11, 15,  8], dtype=int32)>,\n",
              " <tf.Tensor: shape=(3,), dtype=int32, numpy=array([4, 1, 9], dtype=int32)>,\n",
              " <tf.Tensor: shape=(2, 3), dtype=int32, numpy=\n",
              " array([[ 8, 17, 16],\n",
              "        [ 5,  7,  4]], dtype=int32)>)"
            ]
          },
          "metadata": {},
          "execution_count": 20
        }
      ]
    },
    {
      "cell_type": "markdown",
      "source": [
        "### Manipulation with tensors.(Tensors Operations)"
      ],
      "metadata": {
        "id": "mB3e8USGgaDX"
      }
    },
    {
      "cell_type": "code",
      "source": [
        "random_1 = tf.constant([[1,2],[3,4]])\n",
        "random_2 = tf.constant([[1,2],[3,4]])\n",
        "random_1, random_2"
      ],
      "metadata": {
        "colab": {
          "base_uri": "https://localhost:8080/"
        },
        "id": "X6QinvirgxM3",
        "outputId": "8e6dc987-b052-4c5f-d89c-28c4e6770ddc"
      },
      "execution_count": 21,
      "outputs": [
        {
          "output_type": "execute_result",
          "data": {
            "text/plain": [
              "(<tf.Tensor: shape=(2, 2), dtype=int32, numpy=\n",
              " array([[1, 2],\n",
              "        [3, 4]], dtype=int32)>,\n",
              " <tf.Tensor: shape=(2, 2), dtype=int32, numpy=\n",
              " array([[1, 2],\n",
              "        [3, 4]], dtype=int32)>)"
            ]
          },
          "metadata": {},
          "execution_count": 21
        }
      ]
    },
    {
      "cell_type": "code",
      "source": [
        "# NOT A GLOBAL MANIPULATION\n",
        "random_1 + 10"
      ],
      "metadata": {
        "colab": {
          "base_uri": "https://localhost:8080/"
        },
        "id": "sv59Llxyib_g",
        "outputId": "14e85f26-8c6f-47b9-9986-a2d9af5c7d87"
      },
      "execution_count": 22,
      "outputs": [
        {
          "output_type": "execute_result",
          "data": {
            "text/plain": [
              "<tf.Tensor: shape=(2, 2), dtype=int32, numpy=\n",
              "array([[11, 12],\n",
              "       [13, 14]], dtype=int32)>"
            ]
          },
          "metadata": {},
          "execution_count": 22
        }
      ]
    },
    {
      "cell_type": "code",
      "source": [
        "random_1 + 10\n",
        "\n",
        "# CREATE A GLOBAL MANIPULATION\n",
        "random_2 = random_2 + 10\n",
        "random_1, random_2"
      ],
      "metadata": {
        "colab": {
          "base_uri": "https://localhost:8080/"
        },
        "id": "DFDBnU6uc4tA",
        "outputId": "1d4afb50-2fe7-4eee-c66c-fa05de51462b"
      },
      "execution_count": 23,
      "outputs": [
        {
          "output_type": "execute_result",
          "data": {
            "text/plain": [
              "(<tf.Tensor: shape=(2, 2), dtype=int32, numpy=\n",
              " array([[1, 2],\n",
              "        [3, 4]], dtype=int32)>,\n",
              " <tf.Tensor: shape=(2, 2), dtype=int32, numpy=\n",
              " array([[11, 12],\n",
              "        [13, 14]], dtype=int32)>)"
            ]
          },
          "metadata": {},
          "execution_count": 23
        }
      ]
    },
    {
      "cell_type": "code",
      "source": [
        "random_1, random_2"
      ],
      "metadata": {
        "colab": {
          "base_uri": "https://localhost:8080/"
        },
        "id": "IzYXWUE-gsQ0",
        "outputId": "4a949d6f-a968-4d58-8b5e-67fd2809ba47"
      },
      "execution_count": 24,
      "outputs": [
        {
          "output_type": "execute_result",
          "data": {
            "text/plain": [
              "(<tf.Tensor: shape=(2, 2), dtype=int32, numpy=\n",
              " array([[1, 2],\n",
              "        [3, 4]], dtype=int32)>,\n",
              " <tf.Tensor: shape=(2, 2), dtype=int32, numpy=\n",
              " array([[11, 12],\n",
              "        [13, 14]], dtype=int32)>)"
            ]
          },
          "metadata": {},
          "execution_count": 24
        }
      ]
    },
    {
      "cell_type": "code",
      "source": [
        "# Using operations help to run on GPU.\n",
        "tf.multiply(random_1,10)"
      ],
      "metadata": {
        "colab": {
          "base_uri": "https://localhost:8080/"
        },
        "id": "L4pRwIXDg1IQ",
        "outputId": "030c3313-bbb9-4b86-f23d-3145c60527ff"
      },
      "execution_count": 25,
      "outputs": [
        {
          "output_type": "execute_result",
          "data": {
            "text/plain": [
              "<tf.Tensor: shape=(2, 2), dtype=int32, numpy=\n",
              "array([[10, 20],\n",
              "       [30, 40]], dtype=int32)>"
            ]
          },
          "metadata": {},
          "execution_count": 25
        }
      ]
    },
    {
      "cell_type": "markdown",
      "source": [
        "### Matrix multiplication using tensorflow\n",
        "\n",
        "**Rules:**\n",
        "1.   Inner dimension must match.\n",
        "2.   Output is of the outer dimension type.\n",
        "\n",
        "**Note:**\n",
        "1.   **\"@\"** is used for matrix multiplication in python.\n",
        "2.   `tf.matmul()` or `tf.linalg.matmul()` used for matrix multiplication\n",
        "3.   Generally, Tensors are represented in capital letter variables.\n",
        "4.   Generally `transpose` is used over `reshape` when we want to do matrix multiplication.\n",
        "\n"
      ],
      "metadata": {
        "id": "bybZ_whQ5U7G"
      }
    },
    {
      "cell_type": "code",
      "source": [
        "X = tf.constant([[1,2,3],[4,5,6]])\n",
        "Y = tf.constant([[3,2,1],[6,5,4]])\n",
        "X.shape, Y.shape"
      ],
      "metadata": {
        "id": "M8UDdYeKisS5",
        "colab": {
          "base_uri": "https://localhost:8080/"
        },
        "outputId": "9f4f72e9-b440-491c-b4d7-a92a942b0b65"
      },
      "execution_count": 32,
      "outputs": [
        {
          "output_type": "execute_result",
          "data": {
            "text/plain": [
              "(TensorShape([2, 3]), TensorShape([2, 3]))"
            ]
          },
          "metadata": {},
          "execution_count": 32
        }
      ]
    },
    {
      "cell_type": "code",
      "source": [
        "tf.matmul(X,Y)"
      ],
      "metadata": {
        "colab": {
          "base_uri": "https://localhost:8080/",
          "height": 339
        },
        "id": "6TmradSn5fmL",
        "outputId": "e699d88a-cf6e-4179-ae5a-ab70762139c2"
      },
      "execution_count": 34,
      "outputs": [
        {
          "output_type": "error",
          "ename": "InvalidArgumentError",
          "evalue": "{{function_node __wrapped__MatMul_device_/job:localhost/replica:0/task:0/device:CPU:0}} Matrix size-incompatible: In[0]: [2,3], In[1]: [2,3] [Op:MatMul] name: ",
          "traceback": [
            "\u001b[0;31m---------------------------------------------------------------------------\u001b[0m",
            "\u001b[0;31mInvalidArgumentError\u001b[0m                      Traceback (most recent call last)",
            "\u001b[0;32m<ipython-input-34-cc348e6d8216>\u001b[0m in \u001b[0;36m<cell line: 1>\u001b[0;34m()\u001b[0m\n\u001b[0;32m----> 1\u001b[0;31m \u001b[0mtf\u001b[0m\u001b[0;34m.\u001b[0m\u001b[0mmatmul\u001b[0m\u001b[0;34m(\u001b[0m\u001b[0mX\u001b[0m\u001b[0;34m,\u001b[0m\u001b[0mY\u001b[0m\u001b[0;34m)\u001b[0m\u001b[0;34m\u001b[0m\u001b[0;34m\u001b[0m\u001b[0m\n\u001b[0m",
            "\u001b[0;32m/usr/local/lib/python3.10/dist-packages/tensorflow/python/ops/weak_tensor_ops.py\u001b[0m in \u001b[0;36mwrapper\u001b[0;34m(*args, **kwargs)\u001b[0m\n\u001b[1;32m    140\u001b[0m   \u001b[0;32mdef\u001b[0m \u001b[0mwrapper\u001b[0m\u001b[0;34m(\u001b[0m\u001b[0;34m*\u001b[0m\u001b[0margs\u001b[0m\u001b[0;34m,\u001b[0m \u001b[0;34m**\u001b[0m\u001b[0mkwargs\u001b[0m\u001b[0;34m)\u001b[0m\u001b[0;34m:\u001b[0m\u001b[0;34m\u001b[0m\u001b[0;34m\u001b[0m\u001b[0m\n\u001b[1;32m    141\u001b[0m     \u001b[0;32mif\u001b[0m \u001b[0;32mnot\u001b[0m \u001b[0mops\u001b[0m\u001b[0;34m.\u001b[0m\u001b[0mis_auto_dtype_conversion_enabled\u001b[0m\u001b[0;34m(\u001b[0m\u001b[0;34m)\u001b[0m\u001b[0;34m:\u001b[0m\u001b[0;34m\u001b[0m\u001b[0;34m\u001b[0m\u001b[0m\n\u001b[0;32m--> 142\u001b[0;31m       \u001b[0;32mreturn\u001b[0m \u001b[0mop\u001b[0m\u001b[0;34m(\u001b[0m\u001b[0;34m*\u001b[0m\u001b[0margs\u001b[0m\u001b[0;34m,\u001b[0m \u001b[0;34m**\u001b[0m\u001b[0mkwargs\u001b[0m\u001b[0;34m)\u001b[0m\u001b[0;34m\u001b[0m\u001b[0;34m\u001b[0m\u001b[0m\n\u001b[0m\u001b[1;32m    143\u001b[0m     \u001b[0mbound_arguments\u001b[0m \u001b[0;34m=\u001b[0m \u001b[0msignature\u001b[0m\u001b[0;34m.\u001b[0m\u001b[0mbind\u001b[0m\u001b[0;34m(\u001b[0m\u001b[0;34m*\u001b[0m\u001b[0margs\u001b[0m\u001b[0;34m,\u001b[0m \u001b[0;34m**\u001b[0m\u001b[0mkwargs\u001b[0m\u001b[0;34m)\u001b[0m\u001b[0;34m\u001b[0m\u001b[0;34m\u001b[0m\u001b[0m\n\u001b[1;32m    144\u001b[0m     \u001b[0mbound_arguments\u001b[0m\u001b[0;34m.\u001b[0m\u001b[0mapply_defaults\u001b[0m\u001b[0;34m(\u001b[0m\u001b[0;34m)\u001b[0m\u001b[0;34m\u001b[0m\u001b[0;34m\u001b[0m\u001b[0m\n",
            "\u001b[0;32m/usr/local/lib/python3.10/dist-packages/tensorflow/python/util/traceback_utils.py\u001b[0m in \u001b[0;36merror_handler\u001b[0;34m(*args, **kwargs)\u001b[0m\n\u001b[1;32m    151\u001b[0m     \u001b[0;32mexcept\u001b[0m \u001b[0mException\u001b[0m \u001b[0;32mas\u001b[0m \u001b[0me\u001b[0m\u001b[0;34m:\u001b[0m\u001b[0;34m\u001b[0m\u001b[0;34m\u001b[0m\u001b[0m\n\u001b[1;32m    152\u001b[0m       \u001b[0mfiltered_tb\u001b[0m \u001b[0;34m=\u001b[0m \u001b[0m_process_traceback_frames\u001b[0m\u001b[0;34m(\u001b[0m\u001b[0me\u001b[0m\u001b[0;34m.\u001b[0m\u001b[0m__traceback__\u001b[0m\u001b[0;34m)\u001b[0m\u001b[0;34m\u001b[0m\u001b[0;34m\u001b[0m\u001b[0m\n\u001b[0;32m--> 153\u001b[0;31m       \u001b[0;32mraise\u001b[0m \u001b[0me\u001b[0m\u001b[0;34m.\u001b[0m\u001b[0mwith_traceback\u001b[0m\u001b[0;34m(\u001b[0m\u001b[0mfiltered_tb\u001b[0m\u001b[0;34m)\u001b[0m \u001b[0;32mfrom\u001b[0m \u001b[0;32mNone\u001b[0m\u001b[0;34m\u001b[0m\u001b[0;34m\u001b[0m\u001b[0m\n\u001b[0m\u001b[1;32m    154\u001b[0m     \u001b[0;32mfinally\u001b[0m\u001b[0;34m:\u001b[0m\u001b[0;34m\u001b[0m\u001b[0;34m\u001b[0m\u001b[0m\n\u001b[1;32m    155\u001b[0m       \u001b[0;32mdel\u001b[0m \u001b[0mfiltered_tb\u001b[0m\u001b[0;34m\u001b[0m\u001b[0;34m\u001b[0m\u001b[0m\n",
            "\u001b[0;32m/usr/local/lib/python3.10/dist-packages/tensorflow/python/framework/ops.py\u001b[0m in \u001b[0;36mraise_from_not_ok_status\u001b[0;34m(e, name)\u001b[0m\n\u001b[1;32m   5881\u001b[0m \u001b[0;32mdef\u001b[0m \u001b[0mraise_from_not_ok_status\u001b[0m\u001b[0;34m(\u001b[0m\u001b[0me\u001b[0m\u001b[0;34m,\u001b[0m \u001b[0mname\u001b[0m\u001b[0;34m)\u001b[0m \u001b[0;34m->\u001b[0m \u001b[0mNoReturn\u001b[0m\u001b[0;34m:\u001b[0m\u001b[0;34m\u001b[0m\u001b[0;34m\u001b[0m\u001b[0m\n\u001b[1;32m   5882\u001b[0m   \u001b[0me\u001b[0m\u001b[0;34m.\u001b[0m\u001b[0mmessage\u001b[0m \u001b[0;34m+=\u001b[0m \u001b[0;34m(\u001b[0m\u001b[0;34m\" name: \"\u001b[0m \u001b[0;34m+\u001b[0m \u001b[0mstr\u001b[0m\u001b[0;34m(\u001b[0m\u001b[0mname\u001b[0m \u001b[0;32mif\u001b[0m \u001b[0mname\u001b[0m \u001b[0;32mis\u001b[0m \u001b[0;32mnot\u001b[0m \u001b[0;32mNone\u001b[0m \u001b[0;32melse\u001b[0m \u001b[0;34m\"\"\u001b[0m\u001b[0;34m)\u001b[0m\u001b[0;34m)\u001b[0m\u001b[0;34m\u001b[0m\u001b[0;34m\u001b[0m\u001b[0m\n\u001b[0;32m-> 5883\u001b[0;31m   \u001b[0;32mraise\u001b[0m \u001b[0mcore\u001b[0m\u001b[0;34m.\u001b[0m\u001b[0m_status_to_exception\u001b[0m\u001b[0;34m(\u001b[0m\u001b[0me\u001b[0m\u001b[0;34m)\u001b[0m \u001b[0;32mfrom\u001b[0m \u001b[0;32mNone\u001b[0m  \u001b[0;31m# pylint: disable=protected-access\u001b[0m\u001b[0;34m\u001b[0m\u001b[0;34m\u001b[0m\u001b[0m\n\u001b[0m\u001b[1;32m   5884\u001b[0m \u001b[0;34m\u001b[0m\u001b[0m\n\u001b[1;32m   5885\u001b[0m \u001b[0;34m\u001b[0m\u001b[0m\n",
            "\u001b[0;31mInvalidArgumentError\u001b[0m: {{function_node __wrapped__MatMul_device_/job:localhost/replica:0/task:0/device:CPU:0}} Matrix size-incompatible: In[0]: [2,3], In[1]: [2,3] [Op:MatMul] name: "
          ]
        }
      ]
    },
    {
      "cell_type": "code",
      "source": [
        "# Changed the shape of Y for matrix multiplication using tf.reshape().\n",
        "\n",
        "X @ tf.reshape(Y, shape=(3,2))"
      ],
      "metadata": {
        "colab": {
          "base_uri": "https://localhost:8080/"
        },
        "id": "Yp2mqOa-X3iQ",
        "outputId": "2127a9e0-c949-4eef-c32f-fd90b85b1b1e"
      },
      "execution_count": 35,
      "outputs": [
        {
          "output_type": "execute_result",
          "data": {
            "text/plain": [
              "<tf.Tensor: shape=(2, 2), dtype=int32, numpy=\n",
              "array([[20, 26],\n",
              "       [47, 62]], dtype=int32)>"
            ]
          },
          "metadata": {},
          "execution_count": 35
        }
      ]
    },
    {
      "cell_type": "code",
      "source": [
        "# Changed the shape of Y by taking the transpose of Y by using tf.transpose()\n",
        "\n",
        "X @ tf.transpose(Y)"
      ],
      "metadata": {
        "colab": {
          "base_uri": "https://localhost:8080/"
        },
        "id": "IiI9V0UuY5Uh",
        "outputId": "5609e2f2-7cb9-4471-ae8a-7c794c19483b"
      },
      "execution_count": 36,
      "outputs": [
        {
          "output_type": "execute_result",
          "data": {
            "text/plain": [
              "<tf.Tensor: shape=(2, 2), dtype=int32, numpy=\n",
              "array([[10, 28],\n",
              "       [28, 73]], dtype=int32)>"
            ]
          },
          "metadata": {},
          "execution_count": 36
        }
      ]
    },
    {
      "cell_type": "code",
      "source": [
        "# Difference in both answers because reshape and transpose are not same. Here is example of it.\n",
        "\n",
        "Y, tf.reshape(Y, shape=(3,2)), tf.transpose(Y)"
      ],
      "metadata": {
        "colab": {
          "base_uri": "https://localhost:8080/"
        },
        "id": "E5Q6XCo3Zdx0",
        "outputId": "74f3337a-e4a5-4729-c755-4f4a0c875391"
      },
      "execution_count": 39,
      "outputs": [
        {
          "output_type": "execute_result",
          "data": {
            "text/plain": [
              "(<tf.Tensor: shape=(2, 3), dtype=int32, numpy=\n",
              " array([[3, 2, 1],\n",
              "        [6, 5, 4]], dtype=int32)>,\n",
              " <tf.Tensor: shape=(3, 2), dtype=int32, numpy=\n",
              " array([[3, 2],\n",
              "        [1, 6],\n",
              "        [5, 4]], dtype=int32)>,\n",
              " <tf.Tensor: shape=(3, 2), dtype=int32, numpy=\n",
              " array([[3, 6],\n",
              "        [2, 5],\n",
              "        [1, 4]], dtype=int32)>)"
            ]
          },
          "metadata": {},
          "execution_count": 39
        }
      ]
    },
    {
      "cell_type": "code",
      "source": [
        "# Multiplication using tf.matmul or tf.linalg.matmul\n",
        "\n",
        "tf.linalg.matmul(a=X,b=Y,transpose_a=False, transpose_b=True)"
      ],
      "metadata": {
        "colab": {
          "base_uri": "https://localhost:8080/"
        },
        "id": "Ngspbt3OZ8gD",
        "outputId": "c3775900-1e0a-4cd1-8b55-e9d34338df4c"
      },
      "execution_count": 42,
      "outputs": [
        {
          "output_type": "execute_result",
          "data": {
            "text/plain": [
              "<tf.Tensor: shape=(2, 2), dtype=int32, numpy=\n",
              "array([[10, 28],\n",
              "       [28, 73]], dtype=int32)>"
            ]
          },
          "metadata": {},
          "execution_count": 42
        }
      ]
    }
  ]
}