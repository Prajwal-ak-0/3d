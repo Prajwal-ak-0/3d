{
  "nbformat": 4,
  "nbformat_minor": 0,
  "metadata": {
    "colab": {
      "provenance": [],
      "authorship_tag": "ABX9TyPKUWY5ijl6SSWRSPK7d/hR",
      "include_colab_link": true
    },
    "kernelspec": {
      "name": "python3",
      "display_name": "Python 3"
    },
    "language_info": {
      "name": "python"
    }
  },
  "cells": [
    {
      "cell_type": "markdown",
      "metadata": {
        "id": "view-in-github",
        "colab_type": "text"
      },
      "source": [
        "<a href=\"https://colab.research.google.com/github/Prajwal-ak-0/3d/blob/master/Part_1.ipynb\" target=\"_parent\"><img src=\"https://colab.research.google.com/assets/colab-badge.svg\" alt=\"Open In Colab\"/></a>"
      ]
    },
    {
      "cell_type": "markdown",
      "source": [
        "# 1. Introduction to Machine Learning and Deep Learning\n",
        "\n",
        "**Machine Learning (ML)**: A branch of AI that learns from data and predicts unseen data. It can be applied everywhere, as long as we are able to convert the data into numbers, program it, and find patterns.\n",
        "\n",
        "### Differences between ML and DL\n",
        "* **Machine Learning (ML)** is generally applied to structured data.\n",
        "* **Deep Learning (DL)**, a subset of ML, is typically applied to unstructured data.\n",
        "\n",
        "### When to Apply ML/DL\n",
        "* When we cannot specify all the rules we are going to encounter and the environment keeps changing with time.\n",
        "* When there is a large amount of data, we can use ML/DL to gain insights.\n",
        "\n",
        "### When Not to Apply DL\n",
        "* If we can solve the problem with simple ML, it is better to avoid DL as it requires more computation.\n",
        "* In the absence of large data, ML is preferred to deliver accurate results.\n",
        "\n",
        "![Machine Learning vs Deep Learning](https://assets-global.website-files.com/5fb24a974499e90dae242d98/60f6fcbbeb0b8f57a7980a98_5f213db7c7763a9288759ad1_5eac2d0ef117c236e34cc0ff_DeepLearning.jpeg)\n",
        "\n",
        "# Artificial Neural Network (ANN)\n",
        "\n",
        "**Artificial Neural Network (ANN)**: A model inspired by the structure and function of biological neural networks. It consists of:\n",
        "\n",
        "1. **Input Layer**: The incoming data is fed into this layer. Generally, it is a single layer.\n",
        "2. **Hidden Layer(s)**: The model can consist of any number of hidden layers. Each layer helps in feature extraction.\n",
        "3. **Output Layer**: Based on the extracted features, this layer makes the final decision.\n",
        "\n",
        "\n"
      ],
      "metadata": {
        "id": "gFz3-66EKQJh"
      }
    },
    {
      "cell_type": "markdown",
      "source": [
        "# 2. Tensorflow basics\n",
        "\n",
        "**TensorFlow**: An end-to-end open-source machine learning platform used to develop models for various tasks, including natural language processing, image recognition, etc.\n",
        "\n",
        "* Contains prebuilt models.\n",
        "* Provides the tools to build or customize a model.\n"
      ],
      "metadata": {
        "id": "kFKDX9xZcTEv"
      }
    },
    {
      "cell_type": "code",
      "source": [
        "import tensorflow as tf"
      ],
      "metadata": {
        "id": "bpJWy7j9gYY4"
      },
      "execution_count": null,
      "outputs": []
    },
    {
      "cell_type": "code",
      "source": [
        "scalar = tf.constant(10)\n",
        "scalar\n",
        "print(scalar.ndim)"
      ],
      "metadata": {
        "id": "CUMXD_c2dBMY"
      },
      "execution_count": null,
      "outputs": []
    },
    {
      "cell_type": "code",
      "source": [
        "vector = tf.constant([10,20,30,40])\n",
        "vector\n",
        "print(vector.ndim)"
      ],
      "metadata": {
        "id": "mT-kh41ggUk_"
      },
      "execution_count": null,
      "outputs": []
    },
    {
      "cell_type": "code",
      "source": [
        "matrix = tf.constant([[10,20,30,40], [40,50,60,80]])\n",
        "matrix\n",
        "print(matrix.ndim)"
      ],
      "metadata": {
        "id": "e9L45dHohb08"
      },
      "execution_count": null,
      "outputs": []
    },
    {
      "cell_type": "code",
      "source": [
        "tensor = tf.constant([[[10,20,30],[40,50,60]], [[10,20,30],[40,50,60]], [[10,20,30],[40,50,60]], [[10,20,30],[40,50,60]]])\n",
        "tensor\n",
        "print(tensor.ndim)"
      ],
      "metadata": {
        "id": "EV2fsk5AglO6"
      },
      "execution_count": null,
      "outputs": []
    },
    {
      "cell_type": "markdown",
      "source": [
        "### **constant()** vs **variable()**"
      ],
      "metadata": {
        "id": "UjHpbRZdNFYZ"
      }
    },
    {
      "cell_type": "code",
      "source": [
        "var = tf.Variable([10,7])\n",
        "const = tf.constant([10,7])\n",
        "print(var)\n",
        "print(const)"
      ],
      "metadata": {
        "id": "DFCvOF8VNMAF"
      },
      "execution_count": null,
      "outputs": []
    },
    {
      "cell_type": "code",
      "source": [
        "var[0].assign(100)\n",
        "print(var)"
      ],
      "metadata": {
        "id": "suvFdfkDNShm"
      },
      "execution_count": null,
      "outputs": []
    },
    {
      "cell_type": "code",
      "source": [
        "# const[0].assign(100)\n",
        "\n",
        "# NameError                                 Traceback (most recent call last)\n",
        "# <ipython-input-3-f1af4f6e9736> in <cell line: 1>()\n",
        "# ----> 1 const[0].assign(100)\n",
        "\n",
        "# NameError: name 'const' is not defined"
      ],
      "metadata": {
        "id": "uC136QP_OMZg"
      },
      "execution_count": null,
      "outputs": []
    },
    {
      "cell_type": "markdown",
      "source": [
        "### Creating Random Tensors"
      ],
      "metadata": {
        "id": "GTX4div0Pqi7"
      }
    },
    {
      "cell_type": "code",
      "source": [
        "rand_1 = tf.random.Generator.from_seed(40)\n",
        "rand_1 = rand_1.normal(shape=(3,4))\n",
        "rand_2 = tf.random.Generator.from_seed(40)\n",
        "rand_2 = rand_2.normal(shape=(3,4))\n",
        "\n",
        "rand_1, rand_2, rand_1 == rand_2"
      ],
      "metadata": {
        "id": "15DPHOFOPqBP"
      },
      "execution_count": null,
      "outputs": []
    },
    {
      "cell_type": "code",
      "source": [
        "rand_1 = tf.random.Generator.from_seed(40)\n",
        "rand_1 = rand_1.normal(shape=(3,4))\n",
        "rand_2 = tf.random.Generator.from_seed(10)\n",
        "rand_2 = rand_2.normal(shape=(3,4))\n",
        "\n",
        "rand_1, rand_2, rand_1 == rand_2"
      ],
      "metadata": {
        "id": "wdP7utHczu7t"
      },
      "execution_count": null,
      "outputs": []
    },
    {
      "cell_type": "markdown",
      "source": [
        "### Shuffling the order of the tensors"
      ],
      "metadata": {
        "id": "GIipWoHi0ZtM"
      }
    },
    {
      "cell_type": "code",
      "source": [
        "shuffle = tf.constant([[10,2,3], [32,34,5], [12,43,23], [22,1,21]])\n",
        "tf.random.shuffle(shuffle, seed=10)"
      ],
      "metadata": {
        "id": "dM3TTEDC0ddH"
      },
      "execution_count": null,
      "outputs": []
    },
    {
      "cell_type": "code",
      "source": [
        "shuffle = tf.constant([[10,2,3], [32,34,5], [12,43,23], [22,1,21]])\n",
        "tf.random.shuffle(shuffle, seed = 10)"
      ],
      "metadata": {
        "id": "OlVRZiTl0yY4"
      },
      "execution_count": null,
      "outputs": []
    },
    {
      "cell_type": "markdown",
      "source": [
        "### Setting A Global Seed"
      ],
      "metadata": {
        "id": "Ti3TfQL-OML0"
      }
    },
    {
      "cell_type": "code",
      "source": [
        "shuffle = tf.constant([[10,2,3], [32,34,5], [12,43,23], [22,1,21]])\n",
        "tf.random.set_seed(10)\n",
        "tf.random.shuffle(shuffle)"
      ],
      "metadata": {
        "id": "_biCwECfL3ep"
      },
      "execution_count": null,
      "outputs": []
    },
    {
      "cell_type": "markdown",
      "source": [
        "### Creating A Tensor From Numpy"
      ],
      "metadata": {
        "id": "1nEHBmb2PXw9"
      }
    },
    {
      "cell_type": "code",
      "source": [
        "import numpy as np\n",
        "numpy_A = np.arange(1, 25)\n",
        "A = tf.constant(numpy_A)\n",
        "A"
      ],
      "metadata": {
        "id": "P4VMdzuTPd2z"
      },
      "execution_count": null,
      "outputs": []
    },
    {
      "cell_type": "markdown",
      "source": [
        "### Shape, Rank and Size"
      ],
      "metadata": {
        "id": "Qy5Nlm5OR1Cl"
      }
    },
    {
      "cell_type": "code",
      "source": [
        "# Creating a 4 dimension tensor\n",
        "random_4_T = tf.zeros(shape=(2,3,4,5))\n",
        "random_4_T"
      ],
      "metadata": {
        "id": "NpMn8FJVR4o-"
      },
      "execution_count": null,
      "outputs": []
    },
    {
      "cell_type": "code",
      "source": [
        "print(\"Data type of tensor : \",random_4_T.shape)\n",
        "print(\"Dimension(rank) of a tensor : \",random_4_T.ndim)\n",
        "print(\"Datatype of tensor : \", random_4_T.dtype)\n",
        "print(\"Total No of element in tensor : \",tf.size(random_4_T).numpy())\n",
        "print(\"No of ele along 0th dim : \", random_4_T.shape[0])\n",
        "print(\"No of ele along last dim : \", random_4_T.shape[-1])"
      ],
      "metadata": {
        "id": "vWV7qvT9XNcE"
      },
      "execution_count": null,
      "outputs": []
    },
    {
      "cell_type": "markdown",
      "source": [
        "### Indexing in tensors"
      ],
      "metadata": {
        "id": "XcIN8O-iZF6h"
      }
    },
    {
      "cell_type": "markdown",
      "source": [],
      "metadata": {
        "id": "_D-li0SHcABj"
      }
    },
    {
      "cell_type": "code",
      "source": [
        "random_4_T1 = tf.random.uniform(shape=(2,3,4), minval=1, maxval=20, dtype=tf.int32)\n",
        "random_4_T1"
      ],
      "metadata": {
        "id": "ORSdCNqdZFcn"
      },
      "execution_count": null,
      "outputs": []
    },
    {
      "cell_type": "code",
      "source": [
        "# Extract the element at position (0, 1, 2)\n",
        "n1 = random_4_T1[0,1,2]\n",
        "\n",
        "# Extract the first row of the first matrix\n",
        "n2 = random_4_T1[0,0]\n",
        "\n",
        "# Extract the second column of the second matrix\n",
        "n3 = random_4_T1[1,:,1]\n",
        "\n",
        "# Extract the last element of each row in both matrices\n",
        "n4 = random_4_T1[:,:,-1]\n",
        "n1,n2,n3,n4"
      ],
      "metadata": {
        "id": "5bOgwFBtb3F_"
      },
      "execution_count": null,
      "outputs": []
    },
    {
      "cell_type": "markdown",
      "source": [
        "### Manipulation with tensors.(Tensors Operations)"
      ],
      "metadata": {
        "id": "mB3e8USGgaDX"
      }
    },
    {
      "cell_type": "code",
      "source": [
        "random_1 = tf.constant([[1,2],[3,4]])\n",
        "random_2 = tf.constant([[1,2],[3,4]])\n",
        "random_1, random_2"
      ],
      "metadata": {
        "id": "X6QinvirgxM3"
      },
      "execution_count": null,
      "outputs": []
    },
    {
      "cell_type": "code",
      "source": [
        "# NOT A GLOBAL MANIPULATION\n",
        "random_1 + 10"
      ],
      "metadata": {
        "id": "sv59Llxyib_g"
      },
      "execution_count": null,
      "outputs": []
    },
    {
      "cell_type": "code",
      "source": [
        "random_1 + 10\n",
        "\n",
        "# CREATE A GLOBAL MANIPULATION\n",
        "random_2 = random_2 + 10\n",
        "random_1, random_2"
      ],
      "metadata": {
        "id": "DFDBnU6uc4tA"
      },
      "execution_count": null,
      "outputs": []
    },
    {
      "cell_type": "code",
      "source": [
        "random_1, random_2"
      ],
      "metadata": {
        "id": "IzYXWUE-gsQ0"
      },
      "execution_count": null,
      "outputs": []
    },
    {
      "cell_type": "code",
      "source": [
        "# Using operations help to run on GPU.\n",
        "tf.multiply(random_1,10)"
      ],
      "metadata": {
        "id": "L4pRwIXDg1IQ"
      },
      "execution_count": null,
      "outputs": []
    },
    {
      "cell_type": "markdown",
      "source": [
        "### Matrix multiplication using tensorflow\n",
        "\n",
        "**Rules:**\n",
        "1.   Inner dimension must match.\n",
        "2.   Output is of the outer dimension type.\n",
        "\n",
        "**Note:**\n",
        "1.   **\"@\"** is used for matrix multiplication in python.\n",
        "2.   `tf.matmul()` or `tf.linalg.matmul()` used for matrix multiplication\n",
        "3.   Generally, Tensors are represented in capital letter variables.\n",
        "4.   Generally `transpose` is used over `reshape` when we want to do matrix multiplication.\n",
        "\n"
      ],
      "metadata": {
        "id": "bybZ_whQ5U7G"
      }
    },
    {
      "cell_type": "code",
      "source": [
        "X = tf.constant([[1,2,3],[4,5,6]])\n",
        "Y = tf.constant([[3,2,1],[6,5,4]])\n",
        "X.shape, Y.shape"
      ],
      "metadata": {
        "id": "M8UDdYeKisS5"
      },
      "execution_count": null,
      "outputs": []
    },
    {
      "cell_type": "code",
      "source": [
        "# tf.matmul(X,Y)"
      ],
      "metadata": {
        "id": "6TmradSn5fmL"
      },
      "execution_count": null,
      "outputs": []
    },
    {
      "cell_type": "code",
      "source": [
        "# Changed the shape of Y for matrix multiplication using tf.reshape().\n",
        "\n",
        "X @ tf.reshape(Y, shape=(3,2))"
      ],
      "metadata": {
        "id": "Yp2mqOa-X3iQ"
      },
      "execution_count": null,
      "outputs": []
    },
    {
      "cell_type": "code",
      "source": [
        "# Changed the shape of Y by taking the transpose of Y by using tf.transpose()\n",
        "\n",
        "X @ tf.transpose(Y)"
      ],
      "metadata": {
        "id": "IiI9V0UuY5Uh"
      },
      "execution_count": null,
      "outputs": []
    },
    {
      "cell_type": "code",
      "source": [
        "# Difference in both answers because reshape and transpose are not same. Here is example of it.\n",
        "\n",
        "Y, tf.reshape(Y, shape=(3,2)), tf.transpose(Y)"
      ],
      "metadata": {
        "id": "E5Q6XCo3Zdx0"
      },
      "execution_count": null,
      "outputs": []
    },
    {
      "cell_type": "code",
      "source": [
        "# Multiplication using tf.matmul or tf.linalg.matmul\n",
        "\n",
        "tf.linalg.matmul(a=X,b=Y,transpose_a=False, transpose_b=True)"
      ],
      "metadata": {
        "id": "Ngspbt3OZ8gD"
      },
      "execution_count": null,
      "outputs": []
    },
    {
      "cell_type": "markdown",
      "source": [
        "### Converting data type of Tensors\n",
        "\n",
        "*   **Mixed precision** is the use of both 16-bit and 32-bit floating-point types in a model during training to make it run faster and use less memory.\n",
        "[More info](https://www.tensorflow.org/guide/mixed_precision)\n"
      ],
      "metadata": {
        "id": "Upx2Az8muNHW"
      }
    },
    {
      "cell_type": "code",
      "source": [
        "X = tf.constant([1.2,2])\n",
        "X"
      ],
      "metadata": {
        "id": "H-IhHB2luaZr"
      },
      "execution_count": null,
      "outputs": []
    },
    {
      "cell_type": "code",
      "source": [
        "Y = tf.constant([1,2])\n",
        "Y"
      ],
      "metadata": {
        "id": "JAlqSBJEuhzo"
      },
      "execution_count": null,
      "outputs": []
    },
    {
      "cell_type": "code",
      "source": [
        "tf.cast(X,dtype=tf.float16)"
      ],
      "metadata": {
        "id": "KvY9VA7Duln_"
      },
      "execution_count": null,
      "outputs": []
    },
    {
      "cell_type": "code",
      "source": [
        "tf.cast(Y,dtype=tf.int16)"
      ],
      "metadata": {
        "id": "wMwE1vcNvfRR"
      },
      "execution_count": null,
      "outputs": []
    },
    {
      "cell_type": "markdown",
      "source": [
        "### Aggregating functions"
      ],
      "metadata": {
        "id": "fCn0FkAtDfNu"
      }
    },
    {
      "cell_type": "code",
      "source": [
        "# Another way to create random tensor using numpy\n",
        "X = tf.constant(np.random.randint(low=-50, high = 50, size=50))\n",
        "\n",
        "Y = tf.random.uniform(shape=(50,), minval=-50, maxval=50,dtype=tf.int32)\n",
        "X,Y"
      ],
      "metadata": {
        "colab": {
          "base_uri": "https://localhost:8080/"
        },
        "id": "G9qLm5k1DmQd",
        "outputId": "4e5142d9-e7f0-4c0c-b698-ddccb8f86d01"
      },
      "execution_count": 111,
      "outputs": [
        {
          "output_type": "execute_result",
          "data": {
            "text/plain": [
              "(<tf.Tensor: shape=(50,), dtype=int64, numpy=\n",
              " array([-25,  -4,  -2,  26,  12,  -5,   0, -30, -10,  35,  -6,   0, -18,\n",
              "         -7, -24,  16,  22,  11, -21,  24, -20, -14,  38, -43,  -6,  16,\n",
              "         23, -39, -29, -43, -18,  12,   0, -26, -33,  31, -34,  18, -28,\n",
              "         31,   4,   9, -39,   5, -34,  49,   3,  38,  -1,  32])>,\n",
              " <tf.Tensor: shape=(50,), dtype=int32, numpy=\n",
              " array([-48, -14,  32, -35, -17,  39, -30, -23, -16,  16, -35, -17,  39,\n",
              "         -5, -31, -16,  -5, -12,  -3,  49,  17,  33, -23, -38,   5,  36,\n",
              "        -34,  17, -35,  22,  18,  23,  42,  46, -20,   6, -30,  -2,  -4,\n",
              "         14,   4,  38, -34,  -2,  -6,  45, -20, -19, -29,  24], dtype=int32)>)"
            ]
          },
          "metadata": {},
          "execution_count": 111
        }
      ]
    },
    {
      "cell_type": "code",
      "source": [
        "print(\"Value of X : \", X)\n",
        "print(\"\\n\")\n",
        "print(\"Absoulute Value of X : \", tf.abs(X))\n",
        "print(\"\\n\")\n",
        "print(\"Minimum value in X : \", tf.reduce_min(X).numpy())\n",
        "print(\"\\n\")\n",
        "print(\"Maximum value in X : \", tf.reduce_max(X).numpy())\n",
        "print(\"\\n\")\n",
        "print(\"Sum value of X : \", tf.reduce_sum(X).numpy())\n",
        "print(\"\\n\")\n",
        "print(\"Type of X : \", X.dtype)\n",
        "print(\"\\n\")\n",
        "\n",
        "# reduce_varience or reduce_std takes only floating type. So X need to typecasted\n",
        "X = tf.cast(X, tf.float32)\n",
        "\n",
        "print(\"Varience of X : \", tf.math.reduce_variance(X))\n",
        "print(\"\\n\")\n",
        "print(\"Standard deviation of X : \", tf.math.reduce_std(X))"
      ],
      "metadata": {
        "id": "rNP3261mRKEb",
        "outputId": "80338a45-ce2f-4932-d8f7-d60186113fd6",
        "colab": {
          "base_uri": "https://localhost:8080/"
        }
      },
      "execution_count": 125,
      "outputs": [
        {
          "output_type": "stream",
          "name": "stdout",
          "text": [
            "Value of X :  tf.Tensor(\n",
            "[-25.  -4.  -2.  26.  12.  -5.   0. -30. -10.  35.  -6.   0. -18.  -7.\n",
            " -24.  16.  22.  11. -21.  24. -20. -14.  38. -43.  -6.  16.  23. -39.\n",
            " -29. -43. -18.  12.   0. -26. -33.  31. -34.  18. -28.  31.   4.   9.\n",
            " -39.   5. -34.  49.   3.  38.  -1.  32.], shape=(50,), dtype=float32)\n",
            "\n",
            "\n",
            "Absoulute Value of X :  tf.Tensor(\n",
            "[25.  4.  2. 26. 12.  5.  0. 30. 10. 35.  6.  0. 18.  7. 24. 16. 22. 11.\n",
            " 21. 24. 20. 14. 38. 43.  6. 16. 23. 39. 29. 43. 18. 12.  0. 26. 33. 31.\n",
            " 34. 18. 28. 31.  4.  9. 39.  5. 34. 49.  3. 38.  1. 32.], shape=(50,), dtype=float32)\n",
            "\n",
            "\n",
            "Minimum value in X :  -43.0\n",
            "\n",
            "\n",
            "Maximum value in X :  49.0\n",
            "\n",
            "\n",
            "Sum value of X :  -104.0\n",
            "\n",
            "\n",
            "Type of X :  <dtype: 'float32'>\n",
            "\n",
            "\n",
            "Varience of X :  tf.Tensor(587.59357, shape=(), dtype=float32)\n",
            "\n",
            "\n",
            "Standard deviation of X :  tf.Tensor(24.24033, shape=(), dtype=float32)\n"
          ]
        }
      ]
    },
    {
      "cell_type": "code",
      "source": [
        "# Posotional maxiimum and minimum of a tensor\n",
        "\n",
        "print(\"Maximum element is at index : \", tf.math.argmax(X,0).numpy())\n",
        "print(\"Minimum element is at index : \", tf.math.argmin(X,0).numpy())"
      ],
      "metadata": {
        "id": "2hvJVJ2tRfQ6",
        "outputId": "61066925-47c8-45b2-bf9a-d7ca11bc1291",
        "colab": {
          "base_uri": "https://localhost:8080/"
        }
      },
      "execution_count": 127,
      "outputs": [
        {
          "output_type": "stream",
          "name": "stdout",
          "text": [
            "Maximum element is at index :  45\n",
            "Minimum element is at index :  23\n"
          ]
        }
      ]
    },
    {
      "cell_type": "code",
      "source": [
        "Z = tf.random.uniform(minval=10, maxval=60,shape=(2,2,3,3),dtype=tf.int32)\n",
        "Z"
      ],
      "metadata": {
        "id": "tc87rfAVaq4B",
        "outputId": "e466cfcb-8aa4-4dfc-c009-b64d78a7ab8b",
        "colab": {
          "base_uri": "https://localhost:8080/"
        }
      },
      "execution_count": 137,
      "outputs": [
        {
          "output_type": "execute_result",
          "data": {
            "text/plain": [
              "<tf.Tensor: shape=(2, 2, 3, 3), dtype=int32, numpy=\n",
              "array([[[[32, 18, 24],\n",
              "         [45, 30, 42],\n",
              "         [58, 46, 59]],\n",
              "\n",
              "        [[11, 40, 12],\n",
              "         [38, 47, 40],\n",
              "         [18, 27, 55]]],\n",
              "\n",
              "\n",
              "       [[[28, 26, 19],\n",
              "         [59, 33, 24],\n",
              "         [41, 23, 33]],\n",
              "\n",
              "        [[15, 10, 24],\n",
              "         [58, 14, 17],\n",
              "         [12, 51, 57]]]], dtype=int32)>"
            ]
          },
          "metadata": {},
          "execution_count": 137
        }
      ]
    },
    {
      "cell_type": "code",
      "source": [
        "print(\"Maximum element is at index along 0th Axis : \", tf.math.argmax(Z,0).numpy())\n",
        "print(\"Maximum element is at index along 1st Axis : \", tf.math.argmax(Z,1).numpy())\n",
        "print(\"Maximum element is at index along 2nd Axis : \", tf.math.argmax(Z,2).numpy())\n",
        "print(\"Maximum element is at index along 3rd Axis : \", tf.math.argmax(Z,3).numpy())"
      ],
      "metadata": {
        "id": "ht8bY93WhO9V",
        "outputId": "941629f7-53c7-4030-c149-20cb43cfa0c3",
        "colab": {
          "base_uri": "https://localhost:8080/"
        }
      },
      "execution_count": 141,
      "outputs": [
        {
          "output_type": "stream",
          "name": "stdout",
          "text": [
            "Maximum element is at index along 0th Axis :  [[[0 1 0]\n",
            "  [1 1 0]\n",
            "  [0 0 0]]\n",
            "\n",
            " [[1 0 1]\n",
            "  [1 0 0]\n",
            "  [0 1 1]]]\n",
            "Maximum element is at index along 1st Axis :  [[[0 1 0]\n",
            "  [0 1 0]\n",
            "  [0 0 0]]\n",
            "\n",
            " [[0 0 1]\n",
            "  [0 0 0]\n",
            "  [0 1 1]]]\n",
            "Maximum element is at index along 2nd Axis :  [[[2 2 2]\n",
            "  [1 1 2]]\n",
            "\n",
            " [[1 1 2]\n",
            "  [1 2 2]]]\n",
            "Maximum element is at index along 3rd Axis :  [[[0 0 2]\n",
            "  [1 1 2]]\n",
            "\n",
            " [[0 0 0]\n",
            "  [2 0 2]]]\n"
          ]
        }
      ]
    },
    {
      "cell_type": "code",
      "source": [],
      "metadata": {
        "id": "eDLuY4gdi-pw"
      },
      "execution_count": null,
      "outputs": []
    }
  ]
}