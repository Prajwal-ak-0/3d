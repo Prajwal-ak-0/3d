{
  "nbformat": 4,
  "nbformat_minor": 0,
  "metadata": {
    "colab": {
      "provenance": [],
      "authorship_tag": "ABX9TyM1c/ZTcGKmD84m2PtqYS02",
      "include_colab_link": true
    },
    "kernelspec": {
      "name": "python3",
      "display_name": "Python 3"
    },
    "language_info": {
      "name": "python"
    }
  },
  "cells": [
    {
      "cell_type": "markdown",
      "metadata": {
        "id": "view-in-github",
        "colab_type": "text"
      },
      "source": [
        "<a href=\"https://colab.research.google.com/github/Prajwal-ak-0/3d/blob/master/Part_1.ipynb\" target=\"_parent\"><img src=\"https://colab.research.google.com/assets/colab-badge.svg\" alt=\"Open In Colab\"/></a>"
      ]
    },
    {
      "cell_type": "markdown",
      "source": [
        "# 1. Introduction to Machine Learning and Deep Learning\n",
        "\n",
        "**Machine Learning (ML)**: A branch of AI that learns from data and predicts unseen data. It can be applied everywhere, as long as we are able to convert the data into numbers, program it, and find patterns.\n",
        "\n",
        "### Differences between ML and DL\n",
        "* **Machine Learning (ML)** is generally applied to structured data.\n",
        "* **Deep Learning (DL)**, a subset of ML, is typically applied to unstructured data.\n",
        "\n",
        "### When to Apply ML/DL\n",
        "* When we cannot specify all the rules we are going to encounter and the environment keeps changing with time.\n",
        "* When there is a large amount of data, we can use ML/DL to gain insights.\n",
        "\n",
        "### When Not to Apply DL\n",
        "* If we can solve the problem with simple ML, it is better to avoid DL as it requires more computation.\n",
        "* In the absence of large data, ML is preferred to deliver accurate results.\n",
        "\n",
        "![Machine Learning vs Deep Learning](https://assets-global.website-files.com/5fb24a974499e90dae242d98/60f6fcbbeb0b8f57a7980a98_5f213db7c7763a9288759ad1_5eac2d0ef117c236e34cc0ff_DeepLearning.jpeg)\n",
        "\n",
        "# Artificial Neural Network (ANN)\n",
        "\n",
        "**Artificial Neural Network (ANN)**: A model inspired by the structure and function of biological neural networks. It consists of:\n",
        "\n",
        "1. **Input Layer**: The incoming data is fed into this layer. Generally, it is a single layer.\n",
        "2. **Hidden Layer(s)**: The model can consist of any number of hidden layers. Each layer helps in feature extraction.\n",
        "3. **Output Layer**: Based on the extracted features, this layer makes the final decision.\n",
        "\n",
        "\n"
      ],
      "metadata": {
        "id": "gFz3-66EKQJh"
      }
    },
    {
      "cell_type": "markdown",
      "source": [
        "# 2. Tensorflow basics\n",
        "\n",
        "**TensorFlow**: An end-to-end open-source machine learning platform used to develop models for various tasks, including natural language processing, image recognition, etc.\n",
        "\n",
        "* Contains prebuilt models.\n",
        "* Provides the tools to build or customize a model.\n"
      ],
      "metadata": {
        "id": "kFKDX9xZcTEv"
      }
    },
    {
      "cell_type": "code",
      "source": [
        "import tensorflow as tf"
      ],
      "metadata": {
        "id": "bpJWy7j9gYY4"
      },
      "execution_count": 1,
      "outputs": []
    },
    {
      "cell_type": "code",
      "source": [
        "scalar = tf.constant(10)\n",
        "scalar\n",
        "print(scalar.ndim)"
      ],
      "metadata": {
        "colab": {
          "base_uri": "https://localhost:8080/"
        },
        "id": "CUMXD_c2dBMY",
        "outputId": "73559ec0-70b9-4c26-cdc9-bc106c617a19"
      },
      "execution_count": 2,
      "outputs": [
        {
          "output_type": "stream",
          "name": "stdout",
          "text": [
            "0\n"
          ]
        }
      ]
    },
    {
      "cell_type": "code",
      "source": [
        "vector = tf.constant([10,20,30,40])\n",
        "vector\n",
        "print(vector.ndim)"
      ],
      "metadata": {
        "colab": {
          "base_uri": "https://localhost:8080/"
        },
        "id": "mT-kh41ggUk_",
        "outputId": "e1b842ca-a53f-457a-a4f9-80268d875a5c"
      },
      "execution_count": 3,
      "outputs": [
        {
          "output_type": "stream",
          "name": "stdout",
          "text": [
            "1\n"
          ]
        }
      ]
    },
    {
      "cell_type": "code",
      "source": [
        "matrix = tf.constant([[10,20,30,40], [40,50,60,80]])\n",
        "matrix\n",
        "print(matrix.ndim)"
      ],
      "metadata": {
        "colab": {
          "base_uri": "https://localhost:8080/"
        },
        "id": "e9L45dHohb08",
        "outputId": "08e1b147-37a6-4edd-895d-6fc3f8070965"
      },
      "execution_count": 4,
      "outputs": [
        {
          "output_type": "stream",
          "name": "stdout",
          "text": [
            "2\n"
          ]
        }
      ]
    },
    {
      "cell_type": "code",
      "source": [
        "tensor = tf.constant([[[10,20,30],[40,50,60]], [[10,20,30],[40,50,60]], [[10,20,30],[40,50,60]], [[10,20,30],[40,50,60]]])\n",
        "tensor\n",
        "print(tensor.ndim)"
      ],
      "metadata": {
        "colab": {
          "base_uri": "https://localhost:8080/"
        },
        "id": "EV2fsk5AglO6",
        "outputId": "e6a9c83a-bc82-40e0-db2e-171e7db2a911"
      },
      "execution_count": 5,
      "outputs": [
        {
          "output_type": "stream",
          "name": "stdout",
          "text": [
            "3\n"
          ]
        }
      ]
    },
    {
      "cell_type": "markdown",
      "source": [
        "### **constant()** vs **variable()**"
      ],
      "metadata": {
        "id": "UjHpbRZdNFYZ"
      }
    },
    {
      "cell_type": "code",
      "source": [
        "var = tf.Variable([10,7])\n",
        "const = tf.constant([10,7])\n",
        "print(var)\n",
        "print(const)"
      ],
      "metadata": {
        "colab": {
          "base_uri": "https://localhost:8080/"
        },
        "id": "DFCvOF8VNMAF",
        "outputId": "d6a57d4e-5adc-4ea5-f1b3-84ed468c33cd"
      },
      "execution_count": 6,
      "outputs": [
        {
          "output_type": "stream",
          "name": "stdout",
          "text": [
            "<tf.Variable 'Variable:0' shape=(2,) dtype=int32, numpy=array([10,  7], dtype=int32)>\n",
            "tf.Tensor([10  7], shape=(2,), dtype=int32)\n"
          ]
        }
      ]
    },
    {
      "cell_type": "code",
      "source": [
        "var[0].assign(100)\n",
        "print(var)"
      ],
      "metadata": {
        "colab": {
          "base_uri": "https://localhost:8080/"
        },
        "id": "suvFdfkDNShm",
        "outputId": "02d72d86-9737-4248-90b8-a4c0c6319568"
      },
      "execution_count": 7,
      "outputs": [
        {
          "output_type": "stream",
          "name": "stdout",
          "text": [
            "<tf.Variable 'Variable:0' shape=(2,) dtype=int32, numpy=array([100,   7], dtype=int32)>\n"
          ]
        }
      ]
    },
    {
      "cell_type": "code",
      "source": [
        "# const[0].assign(100)\n",
        "\n",
        "# NameError                                 Traceback (most recent call last)\n",
        "# <ipython-input-3-f1af4f6e9736> in <cell line: 1>()\n",
        "# ----> 1 const[0].assign(100)\n",
        "\n",
        "# NameError: name 'const' is not defined"
      ],
      "metadata": {
        "id": "uC136QP_OMZg"
      },
      "execution_count": 8,
      "outputs": []
    },
    {
      "cell_type": "markdown",
      "source": [
        "### Creating Random Tensors"
      ],
      "metadata": {
        "id": "GTX4div0Pqi7"
      }
    },
    {
      "cell_type": "code",
      "source": [
        "rand_1 = tf.random.Generator.from_seed(40)\n",
        "rand_1 = rand_1.normal(shape=(3,4))\n",
        "rand_2 = tf.random.Generator.from_seed(40)\n",
        "rand_2 = rand_2.normal(shape=(3,4))\n",
        "\n",
        "rand_1, rand_2, rand_1 == rand_2"
      ],
      "metadata": {
        "colab": {
          "base_uri": "https://localhost:8080/"
        },
        "id": "15DPHOFOPqBP",
        "outputId": "68a08ad1-9e2c-4841-80c0-b2e520257080"
      },
      "execution_count": 9,
      "outputs": [
        {
          "output_type": "execute_result",
          "data": {
            "text/plain": [
              "(<tf.Tensor: shape=(3, 4), dtype=float32, numpy=\n",
              " array([[ 0.78953624,  0.53897345, -0.48535708,  0.74055266],\n",
              "        [ 0.31662667, -1.4391748 ,  0.58923835, -1.4268045 ],\n",
              "        [-0.7565803 , -0.06854702,  0.07595026, -1.2573844 ]],\n",
              "       dtype=float32)>,\n",
              " <tf.Tensor: shape=(3, 4), dtype=float32, numpy=\n",
              " array([[ 0.78953624,  0.53897345, -0.48535708,  0.74055266],\n",
              "        [ 0.31662667, -1.4391748 ,  0.58923835, -1.4268045 ],\n",
              "        [-0.7565803 , -0.06854702,  0.07595026, -1.2573844 ]],\n",
              "       dtype=float32)>,\n",
              " <tf.Tensor: shape=(3, 4), dtype=bool, numpy=\n",
              " array([[ True,  True,  True,  True],\n",
              "        [ True,  True,  True,  True],\n",
              "        [ True,  True,  True,  True]])>)"
            ]
          },
          "metadata": {},
          "execution_count": 9
        }
      ]
    },
    {
      "cell_type": "code",
      "source": [
        "rand_1 = tf.random.Generator.from_seed(40)\n",
        "rand_1 = rand_1.normal(shape=(3,4))\n",
        "rand_2 = tf.random.Generator.from_seed(10)\n",
        "rand_2 = rand_2.normal(shape=(3,4))\n",
        "\n",
        "rand_1, rand_2, rand_1 == rand_2"
      ],
      "metadata": {
        "colab": {
          "base_uri": "https://localhost:8080/"
        },
        "id": "wdP7utHczu7t",
        "outputId": "eddc0071-c0aa-4f58-a58d-3c4d512f5746"
      },
      "execution_count": 10,
      "outputs": [
        {
          "output_type": "execute_result",
          "data": {
            "text/plain": [
              "(<tf.Tensor: shape=(3, 4), dtype=float32, numpy=\n",
              " array([[ 0.78953624,  0.53897345, -0.48535708,  0.74055266],\n",
              "        [ 0.31662667, -1.4391748 ,  0.58923835, -1.4268045 ],\n",
              "        [-0.7565803 , -0.06854702,  0.07595026, -1.2573844 ]],\n",
              "       dtype=float32)>,\n",
              " <tf.Tensor: shape=(3, 4), dtype=float32, numpy=\n",
              " array([[-0.29604465, -0.21134205,  0.01063002,  1.5165398 ],\n",
              "        [ 0.27305737, -0.29925638, -0.3652325 ,  0.61883307],\n",
              "        [-1.0130816 ,  0.28291714,  1.2132233 ,  0.46988967]],\n",
              "       dtype=float32)>,\n",
              " <tf.Tensor: shape=(3, 4), dtype=bool, numpy=\n",
              " array([[False, False, False, False],\n",
              "        [False, False, False, False],\n",
              "        [False, False, False, False]])>)"
            ]
          },
          "metadata": {},
          "execution_count": 10
        }
      ]
    },
    {
      "cell_type": "markdown",
      "source": [
        "### Shuffling the order of the tensors"
      ],
      "metadata": {
        "id": "GIipWoHi0ZtM"
      }
    },
    {
      "cell_type": "code",
      "source": [
        "shuffle = tf.constant([[10,2,3], [32,34,5], [12,43,23], [22,1,21]])\n",
        "tf.random.shuffle(shuffle, seed=10)"
      ],
      "metadata": {
        "colab": {
          "base_uri": "https://localhost:8080/"
        },
        "id": "dM3TTEDC0ddH",
        "outputId": "0368eb52-ad33-4819-9647-1b1b0f28099d"
      },
      "execution_count": 11,
      "outputs": [
        {
          "output_type": "execute_result",
          "data": {
            "text/plain": [
              "<tf.Tensor: shape=(4, 3), dtype=int32, numpy=\n",
              "array([[10,  2,  3],\n",
              "       [22,  1, 21],\n",
              "       [32, 34,  5],\n",
              "       [12, 43, 23]], dtype=int32)>"
            ]
          },
          "metadata": {},
          "execution_count": 11
        }
      ]
    },
    {
      "cell_type": "code",
      "source": [
        "shuffle = tf.constant([[10,2,3], [32,34,5], [12,43,23], [22,1,21]])\n",
        "tf.random.shuffle(shuffle, seed = 10)"
      ],
      "metadata": {
        "colab": {
          "base_uri": "https://localhost:8080/"
        },
        "id": "OlVRZiTl0yY4",
        "outputId": "fcb1cc3d-009b-4179-f407-2fbb82973ad3"
      },
      "execution_count": 12,
      "outputs": [
        {
          "output_type": "execute_result",
          "data": {
            "text/plain": [
              "<tf.Tensor: shape=(4, 3), dtype=int32, numpy=\n",
              "array([[12, 43, 23],\n",
              "       [32, 34,  5],\n",
              "       [22,  1, 21],\n",
              "       [10,  2,  3]], dtype=int32)>"
            ]
          },
          "metadata": {},
          "execution_count": 12
        }
      ]
    },
    {
      "cell_type": "markdown",
      "source": [
        "### Setting A Global Seed"
      ],
      "metadata": {
        "id": "Ti3TfQL-OML0"
      }
    },
    {
      "cell_type": "code",
      "source": [
        "shuffle = tf.constant([[10,2,3], [32,34,5], [12,43,23], [22,1,21]])\n",
        "tf.random.set_seed(10)\n",
        "tf.random.shuffle(shuffle)"
      ],
      "metadata": {
        "colab": {
          "base_uri": "https://localhost:8080/"
        },
        "id": "_biCwECfL3ep",
        "outputId": "edc08486-0627-47df-a511-d562e1ce9f16"
      },
      "execution_count": 13,
      "outputs": [
        {
          "output_type": "execute_result",
          "data": {
            "text/plain": [
              "<tf.Tensor: shape=(4, 3), dtype=int32, numpy=\n",
              "array([[12, 43, 23],\n",
              "       [22,  1, 21],\n",
              "       [10,  2,  3],\n",
              "       [32, 34,  5]], dtype=int32)>"
            ]
          },
          "metadata": {},
          "execution_count": 13
        }
      ]
    },
    {
      "cell_type": "markdown",
      "source": [
        "### Creating A Tensor From Numpy"
      ],
      "metadata": {
        "id": "1nEHBmb2PXw9"
      }
    },
    {
      "cell_type": "code",
      "source": [
        "import numpy as np\n",
        "numpy_A = np.arange(1, 25)\n",
        "A = tf.constant(numpy_A)\n",
        "A"
      ],
      "metadata": {
        "colab": {
          "base_uri": "https://localhost:8080/"
        },
        "id": "P4VMdzuTPd2z",
        "outputId": "694158fd-02d9-4d24-8980-9debc59dba9a"
      },
      "execution_count": 14,
      "outputs": [
        {
          "output_type": "execute_result",
          "data": {
            "text/plain": [
              "<tf.Tensor: shape=(24,), dtype=int64, numpy=\n",
              "array([ 1,  2,  3,  4,  5,  6,  7,  8,  9, 10, 11, 12, 13, 14, 15, 16, 17,\n",
              "       18, 19, 20, 21, 22, 23, 24])>"
            ]
          },
          "metadata": {},
          "execution_count": 14
        }
      ]
    },
    {
      "cell_type": "markdown",
      "source": [
        "### Shape, Rank and Size"
      ],
      "metadata": {
        "id": "Qy5Nlm5OR1Cl"
      }
    },
    {
      "cell_type": "code",
      "source": [
        "# Creating a 4 dimension tensor\n",
        "random_4_T = tf.zeros(shape=(2,3,4,5))\n",
        "random_4_T"
      ],
      "metadata": {
        "colab": {
          "base_uri": "https://localhost:8080/"
        },
        "id": "NpMn8FJVR4o-",
        "outputId": "436c6b1e-3764-461e-9e7d-d710a48a996b"
      },
      "execution_count": 15,
      "outputs": [
        {
          "output_type": "execute_result",
          "data": {
            "text/plain": [
              "<tf.Tensor: shape=(2, 3, 4, 5), dtype=float32, numpy=\n",
              "array([[[[0., 0., 0., 0., 0.],\n",
              "         [0., 0., 0., 0., 0.],\n",
              "         [0., 0., 0., 0., 0.],\n",
              "         [0., 0., 0., 0., 0.]],\n",
              "\n",
              "        [[0., 0., 0., 0., 0.],\n",
              "         [0., 0., 0., 0., 0.],\n",
              "         [0., 0., 0., 0., 0.],\n",
              "         [0., 0., 0., 0., 0.]],\n",
              "\n",
              "        [[0., 0., 0., 0., 0.],\n",
              "         [0., 0., 0., 0., 0.],\n",
              "         [0., 0., 0., 0., 0.],\n",
              "         [0., 0., 0., 0., 0.]]],\n",
              "\n",
              "\n",
              "       [[[0., 0., 0., 0., 0.],\n",
              "         [0., 0., 0., 0., 0.],\n",
              "         [0., 0., 0., 0., 0.],\n",
              "         [0., 0., 0., 0., 0.]],\n",
              "\n",
              "        [[0., 0., 0., 0., 0.],\n",
              "         [0., 0., 0., 0., 0.],\n",
              "         [0., 0., 0., 0., 0.],\n",
              "         [0., 0., 0., 0., 0.]],\n",
              "\n",
              "        [[0., 0., 0., 0., 0.],\n",
              "         [0., 0., 0., 0., 0.],\n",
              "         [0., 0., 0., 0., 0.],\n",
              "         [0., 0., 0., 0., 0.]]]], dtype=float32)>"
            ]
          },
          "metadata": {},
          "execution_count": 15
        }
      ]
    },
    {
      "cell_type": "code",
      "source": [
        "print(\"Data type of tensor : \",random_4_T.shape)\n",
        "print(\"Dimension(rank) of a tensor : \",random_4_T.ndim)\n",
        "print(\"Datatype of tensor : \", random_4_T.dtype)\n",
        "print(\"Total No of element in tensor : \",tf.size(random_4_T).numpy())\n",
        "print(\"No of ele along 0th dim : \", random_4_T.shape[0])\n",
        "print(\"No of ele along last dim : \", random_4_T.shape[-1])"
      ],
      "metadata": {
        "colab": {
          "base_uri": "https://localhost:8080/"
        },
        "id": "vWV7qvT9XNcE",
        "outputId": "c8ec800e-87c0-4ea9-e1c6-765ba74db0be"
      },
      "execution_count": 16,
      "outputs": [
        {
          "output_type": "stream",
          "name": "stdout",
          "text": [
            "Data type of tensor :  (2, 3, 4, 5)\n",
            "Dimension(rank) of a tensor :  4\n",
            "Datatype of tensor :  <dtype: 'float32'>\n",
            "Total No of element in tensor :  120\n",
            "No of ele along 0th dim :  2\n",
            "No of ele along last dim :  5\n"
          ]
        }
      ]
    },
    {
      "cell_type": "markdown",
      "source": [
        "### Indexing in tensors"
      ],
      "metadata": {
        "id": "XcIN8O-iZF6h"
      }
    },
    {
      "cell_type": "markdown",
      "source": [],
      "metadata": {
        "id": "_D-li0SHcABj"
      }
    },
    {
      "cell_type": "code",
      "source": [
        "random_4_T1 = tf.random.uniform(shape=(2,3,4), minval=1, maxval=20, dtype=tf.int32)\n",
        "random_4_T1"
      ],
      "metadata": {
        "colab": {
          "base_uri": "https://localhost:8080/"
        },
        "id": "ORSdCNqdZFcn",
        "outputId": "85cf02de-6730-4098-92ba-f82bac424d80"
      },
      "execution_count": 21,
      "outputs": [
        {
          "output_type": "execute_result",
          "data": {
            "text/plain": [
              "<tf.Tensor: shape=(2, 3, 4), dtype=int32, numpy=\n",
              "array([[[10, 13, 18,  9],\n",
              "        [14, 14, 19,  3],\n",
              "        [19, 13,  4,  1]],\n",
              "\n",
              "       [[18,  8,  4,  7],\n",
              "        [ 8, 10,  2, 10],\n",
              "        [16, 18, 16,  9]]], dtype=int32)>"
            ]
          },
          "metadata": {},
          "execution_count": 21
        }
      ]
    },
    {
      "cell_type": "code",
      "source": [
        "# Extract the element at position (0, 1, 2)\n",
        "n1 = random_4_T1[0,1,2]\n",
        "\n",
        "# Extract the first row of the first matrix\n",
        "n2 = random_4_T1[0,0]\n",
        "\n",
        "# Extract the second column of the second matrix\n",
        "n3 = random_4_T1[1,:,1]\n",
        "\n",
        "# Extract the last element of each row in both matrices\n",
        "n4 = random_4_T1[:,:,-1]\n",
        "n1,n2,n3,n4"
      ],
      "metadata": {
        "colab": {
          "base_uri": "https://localhost:8080/"
        },
        "id": "5bOgwFBtb3F_",
        "outputId": "0fa529d9-84ac-4dbb-bc90-6a567eecb1fb"
      },
      "execution_count": 31,
      "outputs": [
        {
          "output_type": "execute_result",
          "data": {
            "text/plain": [
              "(<tf.Tensor: shape=(), dtype=int32, numpy=19>,\n",
              " <tf.Tensor: shape=(4,), dtype=int32, numpy=array([10, 13, 18,  9], dtype=int32)>,\n",
              " <tf.Tensor: shape=(3,), dtype=int32, numpy=array([ 8, 10, 18], dtype=int32)>,\n",
              " <tf.Tensor: shape=(2, 3), dtype=int32, numpy=\n",
              " array([[ 9,  3,  1],\n",
              "        [ 7, 10,  9]], dtype=int32)>)"
            ]
          },
          "metadata": {},
          "execution_count": 31
        }
      ]
    },
    {
      "cell_type": "markdown",
      "source": [
        "### Manipulation with tensors.(Tensors Operations)"
      ],
      "metadata": {
        "id": "mB3e8USGgaDX"
      }
    },
    {
      "cell_type": "code",
      "source": [
        "random_1 = tf.constant([[1,2],[3,4]])\n",
        "random_2 = tf.constant([[1,2],[3,4]])\n",
        "random_1, random_2"
      ],
      "metadata": {
        "colab": {
          "base_uri": "https://localhost:8080/"
        },
        "id": "X6QinvirgxM3",
        "outputId": "8442b28c-ace3-4f70-9c75-0938664d4326"
      },
      "execution_count": 46,
      "outputs": [
        {
          "output_type": "execute_result",
          "data": {
            "text/plain": [
              "(<tf.Tensor: shape=(2, 2), dtype=int32, numpy=\n",
              " array([[1, 2],\n",
              "        [3, 4]], dtype=int32)>,\n",
              " <tf.Tensor: shape=(2, 2), dtype=int32, numpy=\n",
              " array([[1, 2],\n",
              "        [3, 4]], dtype=int32)>)"
            ]
          },
          "metadata": {},
          "execution_count": 46
        }
      ]
    },
    {
      "cell_type": "code",
      "source": [
        "# NOT A GLOBAL MANIPULATION\n",
        "random_1 + 10"
      ],
      "metadata": {
        "colab": {
          "base_uri": "https://localhost:8080/"
        },
        "id": "sv59Llxyib_g",
        "outputId": "a1c83874-39be-41bd-c98b-59446f0bf34d"
      },
      "execution_count": 53,
      "outputs": [
        {
          "output_type": "execute_result",
          "data": {
            "text/plain": [
              "<tf.Tensor: shape=(2, 2), dtype=int32, numpy=\n",
              "array([[11, 12],\n",
              "       [13, 14]], dtype=int32)>"
            ]
          },
          "metadata": {},
          "execution_count": 53
        }
      ]
    },
    {
      "cell_type": "code",
      "source": [
        "random_1 + 10\n",
        "\n",
        "# CREATE A GLOBAL MANIPULATION\n",
        "random_2 = random_2 + 10\n",
        "random_1, random_2"
      ],
      "metadata": {
        "colab": {
          "base_uri": "https://localhost:8080/"
        },
        "id": "DFDBnU6uc4tA",
        "outputId": "199b5d8e-a9fa-4f01-8134-a629b5826f3e"
      },
      "execution_count": 51,
      "outputs": [
        {
          "output_type": "execute_result",
          "data": {
            "text/plain": [
              "(<tf.Tensor: shape=(2, 2), dtype=int32, numpy=\n",
              " array([[1, 2],\n",
              "        [3, 4]], dtype=int32)>,\n",
              " <tf.Tensor: shape=(2, 2), dtype=int32, numpy=\n",
              " array([[21, 22],\n",
              "        [23, 24]], dtype=int32)>)"
            ]
          },
          "metadata": {},
          "execution_count": 51
        }
      ]
    },
    {
      "cell_type": "code",
      "source": [
        "random_1, random_2"
      ],
      "metadata": {
        "colab": {
          "base_uri": "https://localhost:8080/"
        },
        "id": "IzYXWUE-gsQ0",
        "outputId": "6ac7f965-0544-48c6-c6d8-215bd016fc4f"
      },
      "execution_count": 52,
      "outputs": [
        {
          "output_type": "execute_result",
          "data": {
            "text/plain": [
              "(<tf.Tensor: shape=(2, 2), dtype=int32, numpy=\n",
              " array([[1, 2],\n",
              "        [3, 4]], dtype=int32)>,\n",
              " <tf.Tensor: shape=(2, 2), dtype=int32, numpy=\n",
              " array([[21, 22],\n",
              "        [23, 24]], dtype=int32)>)"
            ]
          },
          "metadata": {},
          "execution_count": 52
        }
      ]
    },
    {
      "cell_type": "code",
      "source": [
        "# Using operations help to run on GPU.\n",
        "tf.multiply(random_1,10)"
      ],
      "metadata": {
        "colab": {
          "base_uri": "https://localhost:8080/"
        },
        "id": "L4pRwIXDg1IQ",
        "outputId": "24f6bc2a-4b1e-43e3-b449-509f0d653ed2"
      },
      "execution_count": 55,
      "outputs": [
        {
          "output_type": "execute_result",
          "data": {
            "text/plain": [
              "<tf.Tensor: shape=(2, 2), dtype=int32, numpy=\n",
              "array([[10, 20],\n",
              "       [30, 40]], dtype=int32)>"
            ]
          },
          "metadata": {},
          "execution_count": 55
        }
      ]
    },
    {
      "cell_type": "code",
      "source": [],
      "metadata": {
        "id": "M8UDdYeKisS5"
      },
      "execution_count": null,
      "outputs": []
    }
  ]
}