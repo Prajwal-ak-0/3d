{
  "nbformat": 4,
  "nbformat_minor": 0,
  "metadata": {
    "colab": {
      "provenance": [],
      "authorship_tag": "ABX9TyObGN96WLJBPr8v8vqHorMO",
      "include_colab_link": true
    },
    "kernelspec": {
      "name": "python3",
      "display_name": "Python 3"
    },
    "language_info": {
      "name": "python"
    }
  },
  "cells": [
    {
      "cell_type": "markdown",
      "metadata": {
        "id": "view-in-github",
        "colab_type": "text"
      },
      "source": [
        "<a href=\"https://colab.research.google.com/github/Prajwal-ak-0/3d/blob/master/Part_1.ipynb\" target=\"_parent\"><img src=\"https://colab.research.google.com/assets/colab-badge.svg\" alt=\"Open In Colab\"/></a>"
      ]
    },
    {
      "cell_type": "markdown",
      "source": [
        "# 1. Introduction to Machine Learning and Deep Learning\n",
        "\n",
        "**Machine Learning (ML)**: A branch of AI that learns from data and predicts unseen data. It can be applied everywhere, as long as we are able to convert the data into numbers, program it, and find patterns.\n",
        "\n",
        "### Differences between ML and DL\n",
        "* **Machine Learning (ML)** is generally applied to structured data.\n",
        "* **Deep Learning (DL)**, a subset of ML, is typically applied to unstructured data.\n",
        "\n",
        "### When to Apply ML/DL\n",
        "* When we cannot specify all the rules we are going to encounter and the environment keeps changing with time.\n",
        "* When there is a large amount of data, we can use ML/DL to gain insights.\n",
        "\n",
        "### When Not to Apply DL\n",
        "* If we can solve the problem with simple ML, it is better to avoid DL as it requires more computation.\n",
        "* In the absence of large data, ML is preferred to deliver accurate results.\n",
        "\n",
        "![Machine Learning vs Deep Learning](https://assets-global.website-files.com/5fb24a974499e90dae242d98/60f6fcbbeb0b8f57a7980a98_5f213db7c7763a9288759ad1_5eac2d0ef117c236e34cc0ff_DeepLearning.jpeg)\n",
        "\n",
        "# Artificial Neural Network (ANN)\n",
        "\n",
        "**Artificial Neural Network (ANN)**: A model inspired by the structure and function of biological neural networks. It consists of:\n",
        "\n",
        "1. **Input Layer**: The incoming data is fed into this layer. Generally, it is a single layer.\n",
        "2. **Hidden Layer(s)**: The model can consist of any number of hidden layers. Each layer helps in feature extraction.\n",
        "3. **Output Layer**: Based on the extracted features, this layer makes the final decision.\n",
        "\n",
        "\n"
      ],
      "metadata": {
        "id": "gFz3-66EKQJh"
      }
    },
    {
      "cell_type": "markdown",
      "source": [
        "# 2. Tensorflow basics\n",
        "\n",
        "**TensorFlow**: An end-to-end open-source machine learning platform used to develop models for various tasks, including natural language processing, image recognition, etc.\n",
        "\n",
        "* Contains prebuilt models.\n",
        "* Provides the tools to build or customize a model.\n"
      ],
      "metadata": {
        "id": "kFKDX9xZcTEv"
      }
    },
    {
      "cell_type": "code",
      "source": [
        "import tensorflow as tf"
      ],
      "metadata": {
        "id": "bpJWy7j9gYY4"
      },
      "execution_count": 2,
      "outputs": []
    },
    {
      "cell_type": "code",
      "source": [
        "scalar = tf.constant(10)\n",
        "scalar\n",
        "print(scalar.ndim)"
      ],
      "metadata": {
        "colab": {
          "base_uri": "https://localhost:8080/"
        },
        "id": "CUMXD_c2dBMY",
        "outputId": "b81932a7-5fc2-4e57-b074-3100b0a30d66"
      },
      "execution_count": 3,
      "outputs": [
        {
          "output_type": "stream",
          "name": "stdout",
          "text": [
            "0\n"
          ]
        }
      ]
    },
    {
      "cell_type": "code",
      "source": [
        "vector = tf.constant([10,20,30,40])\n",
        "vector\n",
        "print(vector.ndim)"
      ],
      "metadata": {
        "colab": {
          "base_uri": "https://localhost:8080/"
        },
        "id": "mT-kh41ggUk_",
        "outputId": "f5b3c9a0-2ed7-4931-b4ae-6371bdc58d9c"
      },
      "execution_count": 4,
      "outputs": [
        {
          "output_type": "stream",
          "name": "stdout",
          "text": [
            "1\n"
          ]
        }
      ]
    },
    {
      "cell_type": "code",
      "source": [
        "matrix = tf.constant([[10,20,30,40], [40,50,60,80]])\n",
        "matrix\n",
        "print(matrix.ndim)"
      ],
      "metadata": {
        "colab": {
          "base_uri": "https://localhost:8080/"
        },
        "id": "e9L45dHohb08",
        "outputId": "39bf1521-e005-4bc9-b22b-1387b7b6e4eb"
      },
      "execution_count": 5,
      "outputs": [
        {
          "output_type": "stream",
          "name": "stdout",
          "text": [
            "2\n"
          ]
        }
      ]
    },
    {
      "cell_type": "code",
      "source": [
        "tensor = tf.constant([[[10,20,30],[40,50,60]], [[10,20,30],[40,50,60]], [[10,20,30],[40,50,60]], [[10,20,30],[40,50,60]]])\n",
        "tensor\n",
        "print(tensor.ndim)"
      ],
      "metadata": {
        "colab": {
          "base_uri": "https://localhost:8080/"
        },
        "id": "EV2fsk5AglO6",
        "outputId": "92f1adfd-878f-4e65-e1eb-1dc8e1a7c088"
      },
      "execution_count": 6,
      "outputs": [
        {
          "output_type": "stream",
          "name": "stdout",
          "text": [
            "3\n"
          ]
        }
      ]
    },
    {
      "cell_type": "markdown",
      "source": [
        "**constant()** vs **variable()**"
      ],
      "metadata": {
        "id": "UjHpbRZdNFYZ"
      }
    },
    {
      "cell_type": "code",
      "source": [
        "var = tf.Variable([10,7])\n",
        "const = tf.constant([10,7])\n",
        "print(var)\n",
        "print(const)"
      ],
      "metadata": {
        "colab": {
          "base_uri": "https://localhost:8080/"
        },
        "id": "DFCvOF8VNMAF",
        "outputId": "fabdc87d-2da7-4e08-ebd2-31b1485f9450"
      },
      "execution_count": 19,
      "outputs": [
        {
          "output_type": "stream",
          "name": "stdout",
          "text": [
            "<tf.Variable 'Variable:0' shape=(2,) dtype=int32, numpy=array([10,  7], dtype=int32)>\n",
            "tf.Tensor([10  7], shape=(2,), dtype=int32)\n"
          ]
        }
      ]
    },
    {
      "cell_type": "code",
      "source": [
        "var[0].assign(100)\n",
        "print(var)"
      ],
      "metadata": {
        "colab": {
          "base_uri": "https://localhost:8080/"
        },
        "id": "suvFdfkDNShm",
        "outputId": "fb449079-2433-4de9-d1a2-dcc03b473220"
      },
      "execution_count": 17,
      "outputs": [
        {
          "output_type": "stream",
          "name": "stdout",
          "text": [
            "<tf.Variable 'Variable:0' shape=(2,) dtype=int32, numpy=array([100,   7], dtype=int32)>\n"
          ]
        }
      ]
    },
    {
      "cell_type": "code",
      "source": [
        "const[0].assign(9900)"
      ],
      "metadata": {
        "colab": {
          "base_uri": "https://localhost:8080/",
          "height": 263
        },
        "id": "uC136QP_OMZg",
        "outputId": "69852e16-07c8-4a67-e1b5-d17186b396f5"
      },
      "execution_count": 23,
      "outputs": [
        {
          "output_type": "error",
          "ename": "AttributeError",
          "evalue": "'tensorflow.python.framework.ops.EagerTensor' object has no attribute 'assign'",
          "traceback": [
            "\u001b[0;31m---------------------------------------------------------------------------\u001b[0m",
            "\u001b[0;31mAttributeError\u001b[0m                            Traceback (most recent call last)",
            "\u001b[0;32m<ipython-input-23-7637bd29262b>\u001b[0m in \u001b[0;36m<cell line: 1>\u001b[0;34m()\u001b[0m\n\u001b[0;32m----> 1\u001b[0;31m \u001b[0mconst\u001b[0m\u001b[0;34m[\u001b[0m\u001b[0;36m0\u001b[0m\u001b[0;34m]\u001b[0m\u001b[0;34m.\u001b[0m\u001b[0massign\u001b[0m\u001b[0;34m(\u001b[0m\u001b[0;36m9900\u001b[0m\u001b[0;34m)\u001b[0m\u001b[0;34m\u001b[0m\u001b[0;34m\u001b[0m\u001b[0m\n\u001b[0m",
            "\u001b[0;32m/usr/local/lib/python3.10/dist-packages/tensorflow/python/framework/tensor.py\u001b[0m in \u001b[0;36m__getattr__\u001b[0;34m(self, name)\u001b[0m\n\u001b[1;32m    259\u001b[0m         \u001b[0mtf\u001b[0m\u001b[0;34m.\u001b[0m\u001b[0mexperimental\u001b[0m\u001b[0;34m.\u001b[0m\u001b[0mnumpy\u001b[0m\u001b[0;34m.\u001b[0m\u001b[0mexperimental_enable_numpy_behavior\u001b[0m\u001b[0;34m(\u001b[0m\u001b[0;34m)\u001b[0m\u001b[0;34m\u001b[0m\u001b[0;34m\u001b[0m\u001b[0m\n\u001b[1;32m    260\u001b[0m       \"\"\")\n\u001b[0;32m--> 261\u001b[0;31m     \u001b[0mself\u001b[0m\u001b[0;34m.\u001b[0m\u001b[0m__getattribute__\u001b[0m\u001b[0;34m(\u001b[0m\u001b[0mname\u001b[0m\u001b[0;34m)\u001b[0m\u001b[0;34m\u001b[0m\u001b[0;34m\u001b[0m\u001b[0m\n\u001b[0m\u001b[1;32m    262\u001b[0m \u001b[0;34m\u001b[0m\u001b[0m\n\u001b[1;32m    263\u001b[0m   \u001b[0;34m@\u001b[0m\u001b[0mproperty\u001b[0m\u001b[0;34m\u001b[0m\u001b[0;34m\u001b[0m\u001b[0m\n",
            "\u001b[0;31mAttributeError\u001b[0m: 'tensorflow.python.framework.ops.EagerTensor' object has no attribute 'assign'"
          ]
        }
      ]
    },
    {
      "cell_type": "markdown",
      "source": [],
      "metadata": {
        "id": "mgyKh1yePdSn"
      }
    }
  ]
}