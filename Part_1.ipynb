{
  "nbformat": 4,
  "nbformat_minor": 0,
  "metadata": {
    "colab": {
      "provenance": [],
      "authorship_tag": "ABX9TyOugpTyoG3wDiQKT4QV6DGi",
      "include_colab_link": true
    },
    "kernelspec": {
      "name": "python3",
      "display_name": "Python 3"
    },
    "language_info": {
      "name": "python"
    }
  },
  "cells": [
    {
      "cell_type": "markdown",
      "metadata": {
        "id": "view-in-github",
        "colab_type": "text"
      },
      "source": [
        "<a href=\"https://colab.research.google.com/github/Prajwal-ak-0/3d/blob/master/Part_1.ipynb\" target=\"_parent\"><img src=\"https://colab.research.google.com/assets/colab-badge.svg\" alt=\"Open In Colab\"/></a>"
      ]
    },
    {
      "cell_type": "markdown",
      "source": [
        "# 1. Introduction to Machine Learning and Deep Learning\n",
        "\n",
        "**Machine Learning (ML)**: A branch of AI that learns from data and predicts unseen data. It can be applied everywhere, as long as we are able to convert the data into numbers, program it, and find patterns.\n",
        "\n",
        "### Differences between ML and DL\n",
        "* **Machine Learning (ML)** is generally applied to structured data.\n",
        "* **Deep Learning (DL)**, a subset of ML, is typically applied to unstructured data.\n",
        "\n",
        "### When to Apply ML/DL\n",
        "* When we cannot specify all the rules we are going to encounter and the environment keeps changing with time.\n",
        "* When there is a large amount of data, we can use ML/DL to gain insights.\n",
        "\n",
        "### When Not to Apply DL\n",
        "* If we can solve the problem with simple ML, it is better to avoid DL as it requires more computation.\n",
        "* In the absence of large data, ML is preferred to deliver accurate results.\n",
        "\n",
        "![Machine Learning vs Deep Learning](https://assets-global.website-files.com/5fb24a974499e90dae242d98/60f6fcbbeb0b8f57a7980a98_5f213db7c7763a9288759ad1_5eac2d0ef117c236e34cc0ff_DeepLearning.jpeg)\n",
        "\n",
        "# Artificial Neural Network (ANN)\n",
        "\n",
        "**Artificial Neural Network (ANN)**: A model inspired by the structure and function of biological neural networks. It consists of:\n",
        "\n",
        "1. **Input Layer**: The incoming data is fed into this layer. Generally, it is a single layer.\n",
        "2. **Hidden Layer(s)**: The model can consist of any number of hidden layers. Each layer helps in feature extraction.\n",
        "3. **Output Layer**: Based on the extracted features, this layer makes the final decision.\n",
        "\n",
        "\n"
      ],
      "metadata": {
        "id": "gFz3-66EKQJh"
      }
    },
    {
      "cell_type": "markdown",
      "source": [
        "# 2. Tensorflow basics\n",
        "\n",
        "**TensorFlow**: An end-to-end open-source machine learning platform used to develop models for various tasks, including natural language processing, image recognition, etc.\n",
        "\n",
        "* Contains prebuilt models.\n",
        "* Provides the tools to build or customize a model.\n"
      ],
      "metadata": {
        "id": "kFKDX9xZcTEv"
      }
    },
    {
      "cell_type": "code",
      "source": [
        "import tensorflow as tf"
      ],
      "metadata": {
        "id": "bpJWy7j9gYY4"
      },
      "execution_count": 7,
      "outputs": []
    },
    {
      "cell_type": "code",
      "source": [
        "scalar = tf.constant(10)\n",
        "scalar\n",
        "print(scalar.ndim)"
      ],
      "metadata": {
        "colab": {
          "base_uri": "https://localhost:8080/"
        },
        "id": "CUMXD_c2dBMY",
        "outputId": "2fa331d1-306a-4b8e-8956-b0510c6d0305"
      },
      "execution_count": 8,
      "outputs": [
        {
          "output_type": "stream",
          "name": "stdout",
          "text": [
            "0\n"
          ]
        }
      ]
    },
    {
      "cell_type": "code",
      "source": [
        "vector = tf.constant([10,20,30,40])\n",
        "vector\n",
        "print(vector.ndim)"
      ],
      "metadata": {
        "colab": {
          "base_uri": "https://localhost:8080/"
        },
        "id": "mT-kh41ggUk_",
        "outputId": "2825491a-d35f-4cb6-9b09-ed104a42e0e7"
      },
      "execution_count": 9,
      "outputs": [
        {
          "output_type": "stream",
          "name": "stdout",
          "text": [
            "1\n"
          ]
        }
      ]
    },
    {
      "cell_type": "code",
      "source": [
        "matrix = tf.constant([[10,20,30,40], [40,50,60,80]])\n",
        "matrix\n",
        "print(matrix.ndim)"
      ],
      "metadata": {
        "colab": {
          "base_uri": "https://localhost:8080/"
        },
        "id": "e9L45dHohb08",
        "outputId": "fb24e88e-decc-4be3-8f68-2ad6ae2a11a5"
      },
      "execution_count": 10,
      "outputs": [
        {
          "output_type": "stream",
          "name": "stdout",
          "text": [
            "2\n"
          ]
        }
      ]
    },
    {
      "cell_type": "code",
      "source": [
        "tensor = tf.constant([[[10,20,30],[40,50,60]], [[10,20,30],[40,50,60]], [[10,20,30],[40,50,60]], [[10,20,30],[40,50,60]]])\n",
        "tensor\n",
        "print(tensor.ndim)"
      ],
      "metadata": {
        "colab": {
          "base_uri": "https://localhost:8080/"
        },
        "id": "EV2fsk5AglO6",
        "outputId": "d95ea89b-004b-4855-f0be-44a2d46fd577"
      },
      "execution_count": 11,
      "outputs": [
        {
          "output_type": "stream",
          "name": "stdout",
          "text": [
            "3\n"
          ]
        }
      ]
    },
    {
      "cell_type": "markdown",
      "source": [
        "### **constant()** vs **variable()**"
      ],
      "metadata": {
        "id": "UjHpbRZdNFYZ"
      }
    },
    {
      "cell_type": "code",
      "source": [
        "var = tf.Variable([10,7])\n",
        "const = tf.constant([10,7])\n",
        "print(var)\n",
        "print(const)"
      ],
      "metadata": {
        "colab": {
          "base_uri": "https://localhost:8080/"
        },
        "id": "DFCvOF8VNMAF",
        "outputId": "471fa271-9d5c-4762-aed6-ccbc65d789f5"
      },
      "execution_count": 12,
      "outputs": [
        {
          "output_type": "stream",
          "name": "stdout",
          "text": [
            "<tf.Variable 'Variable:0' shape=(2,) dtype=int32, numpy=array([10,  7], dtype=int32)>\n",
            "tf.Tensor([10  7], shape=(2,), dtype=int32)\n"
          ]
        }
      ]
    },
    {
      "cell_type": "code",
      "source": [
        "var[0].assign(100)\n",
        "print(var)"
      ],
      "metadata": {
        "colab": {
          "base_uri": "https://localhost:8080/"
        },
        "id": "suvFdfkDNShm",
        "outputId": "79865764-bfa7-45bd-d972-ccb62ab0a7ca"
      },
      "execution_count": 13,
      "outputs": [
        {
          "output_type": "stream",
          "name": "stdout",
          "text": [
            "<tf.Variable 'Variable:0' shape=(2,) dtype=int32, numpy=array([100,   7], dtype=int32)>\n"
          ]
        }
      ]
    },
    {
      "cell_type": "code",
      "source": [
        "# const[0].assign(100)\n",
        "\n",
        "# NameError                                 Traceback (most recent call last)\n",
        "# <ipython-input-3-f1af4f6e9736> in <cell line: 1>()\n",
        "# ----> 1 const[0].assign(100)\n",
        "\n",
        "# NameError: name 'const' is not defined"
      ],
      "metadata": {
        "id": "uC136QP_OMZg"
      },
      "execution_count": 14,
      "outputs": []
    },
    {
      "cell_type": "markdown",
      "source": [
        "### Creating Random Tensors"
      ],
      "metadata": {
        "id": "GTX4div0Pqi7"
      }
    },
    {
      "cell_type": "code",
      "source": [
        "rand_1 = tf.random.Generator.from_seed(40)\n",
        "rand_1 = rand_1.normal(shape=(3,4))\n",
        "rand_2 = tf.random.Generator.from_seed(40)\n",
        "rand_2 = rand_2.normal(shape=(3,4))\n",
        "\n",
        "rand_1, rand_2, rand_1 == rand_2"
      ],
      "metadata": {
        "colab": {
          "base_uri": "https://localhost:8080/"
        },
        "id": "15DPHOFOPqBP",
        "outputId": "45e6e74e-85e8-40de-9f05-674e15a3d861"
      },
      "execution_count": 31,
      "outputs": [
        {
          "output_type": "execute_result",
          "data": {
            "text/plain": [
              "(<tf.Tensor: shape=(3, 4), dtype=float32, numpy=\n",
              " array([[ 0.78953624,  0.53897345, -0.48535708,  0.74055266],\n",
              "        [ 0.31662667, -1.4391748 ,  0.58923835, -1.4268045 ],\n",
              "        [-0.7565803 , -0.06854702,  0.07595026, -1.2573844 ]],\n",
              "       dtype=float32)>,\n",
              " <tf.Tensor: shape=(3, 4), dtype=float32, numpy=\n",
              " array([[ 0.78953624,  0.53897345, -0.48535708,  0.74055266],\n",
              "        [ 0.31662667, -1.4391748 ,  0.58923835, -1.4268045 ],\n",
              "        [-0.7565803 , -0.06854702,  0.07595026, -1.2573844 ]],\n",
              "       dtype=float32)>,\n",
              " <tf.Tensor: shape=(3, 4), dtype=bool, numpy=\n",
              " array([[ True,  True,  True,  True],\n",
              "        [ True,  True,  True,  True],\n",
              "        [ True,  True,  True,  True]])>)"
            ]
          },
          "metadata": {},
          "execution_count": 31
        }
      ]
    },
    {
      "cell_type": "code",
      "source": [
        "rand_1 = tf.random.Generator.from_seed(40)\n",
        "rand_1 = rand_1.normal(shape=(3,4))\n",
        "rand_2 = tf.random.Generator.from_seed(10)\n",
        "rand_2 = rand_2.normal(shape=(3,4))\n",
        "\n",
        "rand_1, rand_2, rand_1 == rand_2"
      ],
      "metadata": {
        "colab": {
          "base_uri": "https://localhost:8080/"
        },
        "id": "wdP7utHczu7t",
        "outputId": "1d233ffb-cca0-4f4e-87f2-f4c5d1a31469"
      },
      "execution_count": 32,
      "outputs": [
        {
          "output_type": "execute_result",
          "data": {
            "text/plain": [
              "(<tf.Tensor: shape=(3, 4), dtype=float32, numpy=\n",
              " array([[ 0.78953624,  0.53897345, -0.48535708,  0.74055266],\n",
              "        [ 0.31662667, -1.4391748 ,  0.58923835, -1.4268045 ],\n",
              "        [-0.7565803 , -0.06854702,  0.07595026, -1.2573844 ]],\n",
              "       dtype=float32)>,\n",
              " <tf.Tensor: shape=(3, 4), dtype=float32, numpy=\n",
              " array([[-0.29604465, -0.21134205,  0.01063002,  1.5165398 ],\n",
              "        [ 0.27305737, -0.29925638, -0.3652325 ,  0.61883307],\n",
              "        [-1.0130816 ,  0.28291714,  1.2132233 ,  0.46988967]],\n",
              "       dtype=float32)>,\n",
              " <tf.Tensor: shape=(3, 4), dtype=bool, numpy=\n",
              " array([[False, False, False, False],\n",
              "        [False, False, False, False],\n",
              "        [False, False, False, False]])>)"
            ]
          },
          "metadata": {},
          "execution_count": 32
        }
      ]
    },
    {
      "cell_type": "markdown",
      "source": [
        "### Shuffling the order of the tensors"
      ],
      "metadata": {
        "id": "GIipWoHi0ZtM"
      }
    },
    {
      "cell_type": "code",
      "source": [
        "shuffle = tf.constant([[10,2,3], [32,34,5], [12,43,23], [22,1,21]])\n",
        "tf.random.shuffle(shuffle, seed=10)"
      ],
      "metadata": {
        "colab": {
          "base_uri": "https://localhost:8080/"
        },
        "id": "dM3TTEDC0ddH",
        "outputId": "39399dfe-3b84-4d72-c8be-4f03a8f750a0"
      },
      "execution_count": 46,
      "outputs": [
        {
          "output_type": "execute_result",
          "data": {
            "text/plain": [
              "<tf.Tensor: shape=(4, 3), dtype=int32, numpy=\n",
              "array([[10,  2,  3],\n",
              "       [22,  1, 21],\n",
              "       [32, 34,  5],\n",
              "       [12, 43, 23]], dtype=int32)>"
            ]
          },
          "metadata": {},
          "execution_count": 46
        }
      ]
    },
    {
      "cell_type": "code",
      "source": [
        "shuffle = tf.constant([[10,2,3], [32,34,5], [12,43,23], [22,1,21]])\n",
        "tf.random.shuffle(shuffle, seed = 10)"
      ],
      "metadata": {
        "colab": {
          "base_uri": "https://localhost:8080/"
        },
        "id": "OlVRZiTl0yY4",
        "outputId": "788ab700-438a-45ac-9fab-ca0bb0b7fe29"
      },
      "execution_count": 47,
      "outputs": [
        {
          "output_type": "execute_result",
          "data": {
            "text/plain": [
              "<tf.Tensor: shape=(4, 3), dtype=int32, numpy=\n",
              "array([[12, 43, 23],\n",
              "       [32, 34,  5],\n",
              "       [22,  1, 21],\n",
              "       [10,  2,  3]], dtype=int32)>"
            ]
          },
          "metadata": {},
          "execution_count": 47
        }
      ]
    },
    {
      "cell_type": "markdown",
      "source": [
        "### Setting A Global Seed"
      ],
      "metadata": {
        "id": "Ti3TfQL-OML0"
      }
    },
    {
      "cell_type": "code",
      "source": [
        "shuffle = tf.constant([[10,2,3], [32,34,5], [12,43,23], [22,1,21]])\n",
        "tf.random.set_seed(10)\n",
        "tf.random.shuffle(shuffle)"
      ],
      "metadata": {
        "colab": {
          "base_uri": "https://localhost:8080/"
        },
        "id": "_biCwECfL3ep",
        "outputId": "48ff95fc-0ad9-4f6f-d66a-3a2271bfb7bf"
      },
      "execution_count": 55,
      "outputs": [
        {
          "output_type": "execute_result",
          "data": {
            "text/plain": [
              "<tf.Tensor: shape=(4, 3), dtype=int32, numpy=\n",
              "array([[12, 43, 23],\n",
              "       [22,  1, 21],\n",
              "       [10,  2,  3],\n",
              "       [32, 34,  5]], dtype=int32)>"
            ]
          },
          "metadata": {},
          "execution_count": 55
        }
      ]
    },
    {
      "cell_type": "markdown",
      "source": [
        "### Creating A Tensor From Numpy"
      ],
      "metadata": {
        "id": "1nEHBmb2PXw9"
      }
    },
    {
      "cell_type": "code",
      "source": [
        "import numpy as np\n",
        "numpy_A = np.arange(1, 25)\n",
        "A = tf.constant(numpy_A)\n",
        "A"
      ],
      "metadata": {
        "colab": {
          "base_uri": "https://localhost:8080/"
        },
        "id": "P4VMdzuTPd2z",
        "outputId": "60a1db52-ca6a-44c5-f433-80ccdcb03552"
      },
      "execution_count": 69,
      "outputs": [
        {
          "output_type": "execute_result",
          "data": {
            "text/plain": [
              "<tf.Tensor: shape=(24,), dtype=int64, numpy=\n",
              "array([ 1,  2,  3,  4,  5,  6,  7,  8,  9, 10, 11, 12, 13, 14, 15, 16, 17,\n",
              "       18, 19, 20, 21, 22, 23, 24])>"
            ]
          },
          "metadata": {},
          "execution_count": 69
        }
      ]
    },
    {
      "cell_type": "markdown",
      "source": [
        "### Shape, Rank and Size"
      ],
      "metadata": {
        "id": "Qy5Nlm5OR1Cl"
      }
    },
    {
      "cell_type": "code",
      "source": [
        "# Creating a 4 dimension tensor\n",
        "random_4_T = tf.zeros(shape=(2,3,4,5))\n",
        "random_4_T"
      ],
      "metadata": {
        "colab": {
          "base_uri": "https://localhost:8080/"
        },
        "id": "NpMn8FJVR4o-",
        "outputId": "9bf3c153-770b-4b56-b0d2-0d0d422405c8"
      },
      "execution_count": 72,
      "outputs": [
        {
          "output_type": "execute_result",
          "data": {
            "text/plain": [
              "<tf.Tensor: shape=(2, 3, 4, 5), dtype=float32, numpy=\n",
              "array([[[[0., 0., 0., 0., 0.],\n",
              "         [0., 0., 0., 0., 0.],\n",
              "         [0., 0., 0., 0., 0.],\n",
              "         [0., 0., 0., 0., 0.]],\n",
              "\n",
              "        [[0., 0., 0., 0., 0.],\n",
              "         [0., 0., 0., 0., 0.],\n",
              "         [0., 0., 0., 0., 0.],\n",
              "         [0., 0., 0., 0., 0.]],\n",
              "\n",
              "        [[0., 0., 0., 0., 0.],\n",
              "         [0., 0., 0., 0., 0.],\n",
              "         [0., 0., 0., 0., 0.],\n",
              "         [0., 0., 0., 0., 0.]]],\n",
              "\n",
              "\n",
              "       [[[0., 0., 0., 0., 0.],\n",
              "         [0., 0., 0., 0., 0.],\n",
              "         [0., 0., 0., 0., 0.],\n",
              "         [0., 0., 0., 0., 0.]],\n",
              "\n",
              "        [[0., 0., 0., 0., 0.],\n",
              "         [0., 0., 0., 0., 0.],\n",
              "         [0., 0., 0., 0., 0.],\n",
              "         [0., 0., 0., 0., 0.]],\n",
              "\n",
              "        [[0., 0., 0., 0., 0.],\n",
              "         [0., 0., 0., 0., 0.],\n",
              "         [0., 0., 0., 0., 0.],\n",
              "         [0., 0., 0., 0., 0.]]]], dtype=float32)>"
            ]
          },
          "metadata": {},
          "execution_count": 72
        }
      ]
    },
    {
      "cell_type": "code",
      "source": [
        "print(\"Data type of tensor : \",random_4_T.shape)\n",
        "print(\"Dimension(rank) of a tensor : \",random_4_T.ndim)\n",
        "print(\"Datatype of tensor : \", random_4_T.dtype)\n",
        "print(\"Total No of element in tensor : \",tf.size(random_4_T).numpy())\n",
        "print(\"No of ele along 0th dim : \", random_4_T.shape[0])\n",
        "print(\"No of ele along last dim : \", random_4_T.shape[-1])"
      ],
      "metadata": {
        "colab": {
          "base_uri": "https://localhost:8080/"
        },
        "id": "vWV7qvT9XNcE",
        "outputId": "06ced61a-bb4c-4f33-e7e2-bf3d2326d0b3"
      },
      "execution_count": 85,
      "outputs": [
        {
          "output_type": "stream",
          "name": "stdout",
          "text": [
            "Data type of tensor :  (2, 3, 4, 5)\n",
            "Dimension(rank) of a tensor :  4\n",
            "Datatype of tensor :  <dtype: 'float32'>\n",
            "Total No of element in tensor :  120\n",
            "No of ele along 0th dim :  2\n",
            "No of ele along last dim :  5\n"
          ]
        }
      ]
    },
    {
      "cell_type": "code",
      "source": [],
      "metadata": {
        "id": "K0ukNaVmXkMW"
      },
      "execution_count": null,
      "outputs": []
    }
  ]
}